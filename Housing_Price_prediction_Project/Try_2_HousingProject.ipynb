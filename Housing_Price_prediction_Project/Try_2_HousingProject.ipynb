{
 "cells": [
  {
   "cell_type": "markdown",
   "id": "a81219d7",
   "metadata": {},
   "source": [
    "# HOUSING PRICE PREDICTION Use Case\n",
    "Every person around the globe and therefore housing and real estate market is one of the markets which is one of the major contributors in the world’s economy. It is a very large market and there are various companies working in the domain. Basically Price Prediction is technique to increase the companies that are in the domain of housing and real estate and are working to achieve the Business goals such as increasing overall revenue, profits, improving their marketing strategies and focusing on changing trends in house sales and purchases.Predictive modelling, Market mix modelling, recommendation systems are some of the machine learning techniques used for achieving the business goals for housing companies. Our problem is related to one such housing company. A US-based housing company named Surprise Housing has decided to enter the Australian market. The company uses data analytics to purchase houses at a price below their actual values and flip them at a higher price. For the same purpose, the company has collected a data set from the sale of houses in Australia. The data is provided in the CSV file below. The company is looking at prospective properties to buy houses to enter the market.I build a model using Machine Learning in order to predict the actual value of the prospective properties and decide whether to invest in them or not. For this company wants to know: • Which variables are important to predict the price of variable? Id,MSSubClass,MSZoning,LotFrontage,LotArea,Street,Alley,LotShape,LandContour,Utilities,LotConfig,LandSlope,Neighborhood,Condition1,Condition2,BldgType,HouseStyle,OverallQual,OverallCond,YearBuilt,YearRemodAdd,RoofStyle,RoofMatl,Exterior1st,Exterior2nd,MasVnrType,MasVnrArea,ExterQual,ExterCond,Foundation,BsmtQual,BsmtCond,BsmtExposure,BsmtFinType1,BsmtFinSF1,BsmtFinType2,BsmtFinSF2,BsmtUnfSF,TotalBsmtSF,Heating,HeatingQC,CentralAir,Electrical,1stFlrSF,2ndFlrSF,LowQualFinSF,GrLivArea,BsmtFullBath,BsmtHalfBath,FullBath,HalfBath,BedroomAbvGr,KitchenAbvGr,KitchenQual,TotRmsAbvGrd,Functional,Fireplaces,FireplaceQu,GarageType,GarageYrBlt,GarageFinish,GarageCars,GarageArea,GarageQual,GarageCond,PavedDrive,WoodDeckSF,OpenPorchSF,EnclosedPorch,3SsnPorch,ScreenPorch,PoolArea,PoolQC,Fence,MiscFeature,MiscVal,MoSold,YrSold,SaleType,SaleCondition\n",
    "\n",
    "• How do these variables describe the price of the house? This is our Problem statement."
   ]
  },
  {
   "cell_type": "markdown",
   "id": "4bda0369",
   "metadata": {},
   "source": [
    "# Step 1: Acquire the data "
   ]
  },
  {
   "cell_type": "code",
   "execution_count": 29,
   "id": "b307ace8",
   "metadata": {},
   "outputs": [],
   "source": [
    "#First, import Pandas, a library for working with data in Python. Next we’ll import Numpy."
   ]
  },
  {
   "cell_type": "code",
   "execution_count": 30,
   "id": "c12ec1b0",
   "metadata": {},
   "outputs": [],
   "source": [
    "import pandas as pd\n",
    "import numpy as np\n",
    "\n",
    "import matplotlib.pyplot as plt\n",
    "import seaborn as sns\n",
    "import sklearn\n",
    "from sklearn.linear_model import LinearRegression\n",
    "from sklearn.metrics import mean_squared_error\n",
    "from sklearn.model_selection import train_test_split\n",
    "import warnings\n",
    "warnings.filterwarnings(\"ignore\", category=DeprecationWarning)"
   ]
  },
  {
   "cell_type": "code",
   "execution_count": 31,
   "id": "b083d915",
   "metadata": {},
   "outputs": [
    {
     "data": {
      "text/plain": [
       "(1168, 81)"
      ]
     },
     "execution_count": 31,
     "metadata": {},
     "output_type": "execute_result"
    }
   ],
   "source": [
    "train = pd.read_csv('traindatafor_housingpro.csv', delimiter=\"\\t\", encoding='utf-8')\n",
    "train.shape\n",
    "#train_df\n"
   ]
  },
  {
   "cell_type": "code",
   "execution_count": 32,
   "id": "01de5c84",
   "metadata": {},
   "outputs": [
    {
     "data": {
      "text/plain": [
       "(292, 80)"
      ]
     },
     "execution_count": 32,
     "metadata": {},
     "output_type": "execute_result"
    }
   ],
   "source": [
    "test = pd.read_csv('TestData_Housing.csv', delimiter=\"\\t\", encoding='utf-8')\n",
    "test.shape"
   ]
  },
  {
   "cell_type": "markdown",
   "id": "e6dff8cd",
   "metadata": {},
   "source": [
    "We see that test has only 80 columns, while train has 81. This is due to, of course, the fact that the test data do not include the final sale price information!"
   ]
  },
  {
   "cell_type": "code",
   "execution_count": 131,
   "id": "b697b69a",
   "metadata": {},
   "outputs": [
    {
     "data": {
      "text/html": [
       "<div>\n",
       "<style scoped>\n",
       "    .dataframe tbody tr th:only-of-type {\n",
       "        vertical-align: middle;\n",
       "    }\n",
       "\n",
       "    .dataframe tbody tr th {\n",
       "        vertical-align: top;\n",
       "    }\n",
       "\n",
       "    .dataframe thead th {\n",
       "        text-align: right;\n",
       "    }\n",
       "</style>\n",
       "<table border=\"1\" class=\"dataframe\">\n",
       "  <thead>\n",
       "    <tr style=\"text-align: right;\">\n",
       "      <th></th>\n",
       "      <th>Id</th>\n",
       "      <th>MSSubClass</th>\n",
       "      <th>MSZoning</th>\n",
       "      <th>LotFrontage</th>\n",
       "      <th>LotArea</th>\n",
       "      <th>Street</th>\n",
       "      <th>Alley</th>\n",
       "      <th>LotShape</th>\n",
       "      <th>LandContour</th>\n",
       "      <th>Utilities</th>\n",
       "      <th>...</th>\n",
       "      <th>Fence</th>\n",
       "      <th>MiscFeature</th>\n",
       "      <th>MiscVal</th>\n",
       "      <th>MoSold</th>\n",
       "      <th>YrSold</th>\n",
       "      <th>SaleType</th>\n",
       "      <th>SaleCondition</th>\n",
       "      <th>SalePrice</th>\n",
       "      <th>enc_street</th>\n",
       "      <th>enc_condition</th>\n",
       "    </tr>\n",
       "  </thead>\n",
       "  <tbody>\n",
       "    <tr>\n",
       "      <th>0</th>\n",
       "      <td>127</td>\n",
       "      <td>120</td>\n",
       "      <td>RL</td>\n",
       "      <td>NaN</td>\n",
       "      <td>4928</td>\n",
       "      <td>Pave</td>\n",
       "      <td>NaN</td>\n",
       "      <td>IR1</td>\n",
       "      <td>Lvl</td>\n",
       "      <td>AllPub</td>\n",
       "      <td>...</td>\n",
       "      <td>NaN</td>\n",
       "      <td>NaN</td>\n",
       "      <td>0</td>\n",
       "      <td>2</td>\n",
       "      <td>2007</td>\n",
       "      <td>WD</td>\n",
       "      <td>Normal</td>\n",
       "      <td>128000</td>\n",
       "      <td>1</td>\n",
       "      <td>0</td>\n",
       "    </tr>\n",
       "    <tr>\n",
       "      <th>1</th>\n",
       "      <td>889</td>\n",
       "      <td>20</td>\n",
       "      <td>RL</td>\n",
       "      <td>95.0</td>\n",
       "      <td>15865</td>\n",
       "      <td>Pave</td>\n",
       "      <td>NaN</td>\n",
       "      <td>IR1</td>\n",
       "      <td>Lvl</td>\n",
       "      <td>AllPub</td>\n",
       "      <td>...</td>\n",
       "      <td>NaN</td>\n",
       "      <td>NaN</td>\n",
       "      <td>0</td>\n",
       "      <td>10</td>\n",
       "      <td>2007</td>\n",
       "      <td>WD</td>\n",
       "      <td>Normal</td>\n",
       "      <td>268000</td>\n",
       "      <td>1</td>\n",
       "      <td>0</td>\n",
       "    </tr>\n",
       "    <tr>\n",
       "      <th>2</th>\n",
       "      <td>793</td>\n",
       "      <td>60</td>\n",
       "      <td>RL</td>\n",
       "      <td>92.0</td>\n",
       "      <td>9920</td>\n",
       "      <td>Pave</td>\n",
       "      <td>NaN</td>\n",
       "      <td>IR1</td>\n",
       "      <td>Lvl</td>\n",
       "      <td>AllPub</td>\n",
       "      <td>...</td>\n",
       "      <td>NaN</td>\n",
       "      <td>NaN</td>\n",
       "      <td>0</td>\n",
       "      <td>6</td>\n",
       "      <td>2007</td>\n",
       "      <td>WD</td>\n",
       "      <td>Normal</td>\n",
       "      <td>269790</td>\n",
       "      <td>1</td>\n",
       "      <td>0</td>\n",
       "    </tr>\n",
       "    <tr>\n",
       "      <th>3</th>\n",
       "      <td>110</td>\n",
       "      <td>20</td>\n",
       "      <td>RL</td>\n",
       "      <td>105.0</td>\n",
       "      <td>11751</td>\n",
       "      <td>Pave</td>\n",
       "      <td>NaN</td>\n",
       "      <td>IR1</td>\n",
       "      <td>Lvl</td>\n",
       "      <td>AllPub</td>\n",
       "      <td>...</td>\n",
       "      <td>MnPrv</td>\n",
       "      <td>NaN</td>\n",
       "      <td>0</td>\n",
       "      <td>1</td>\n",
       "      <td>2010</td>\n",
       "      <td>COD</td>\n",
       "      <td>Normal</td>\n",
       "      <td>190000</td>\n",
       "      <td>1</td>\n",
       "      <td>0</td>\n",
       "    </tr>\n",
       "    <tr>\n",
       "      <th>4</th>\n",
       "      <td>422</td>\n",
       "      <td>20</td>\n",
       "      <td>RL</td>\n",
       "      <td>NaN</td>\n",
       "      <td>16635</td>\n",
       "      <td>Pave</td>\n",
       "      <td>NaN</td>\n",
       "      <td>IR1</td>\n",
       "      <td>Lvl</td>\n",
       "      <td>AllPub</td>\n",
       "      <td>...</td>\n",
       "      <td>NaN</td>\n",
       "      <td>NaN</td>\n",
       "      <td>0</td>\n",
       "      <td>6</td>\n",
       "      <td>2009</td>\n",
       "      <td>WD</td>\n",
       "      <td>Normal</td>\n",
       "      <td>215000</td>\n",
       "      <td>1</td>\n",
       "      <td>0</td>\n",
       "    </tr>\n",
       "  </tbody>\n",
       "</table>\n",
       "<p>5 rows × 83 columns</p>\n",
       "</div>"
      ],
      "text/plain": [
       "    Id  MSSubClass MSZoning  LotFrontage  LotArea Street Alley LotShape  \\\n",
       "0  127         120       RL          NaN     4928   Pave   NaN      IR1   \n",
       "1  889          20       RL         95.0    15865   Pave   NaN      IR1   \n",
       "2  793          60       RL         92.0     9920   Pave   NaN      IR1   \n",
       "3  110          20       RL        105.0    11751   Pave   NaN      IR1   \n",
       "4  422          20       RL          NaN    16635   Pave   NaN      IR1   \n",
       "\n",
       "  LandContour Utilities  ...  Fence MiscFeature MiscVal MoSold YrSold  \\\n",
       "0         Lvl    AllPub  ...    NaN         NaN       0      2   2007   \n",
       "1         Lvl    AllPub  ...    NaN         NaN       0     10   2007   \n",
       "2         Lvl    AllPub  ...    NaN         NaN       0      6   2007   \n",
       "3         Lvl    AllPub  ...  MnPrv         NaN       0      1   2010   \n",
       "4         Lvl    AllPub  ...    NaN         NaN       0      6   2009   \n",
       "\n",
       "  SaleType SaleCondition  SalePrice  enc_street  enc_condition  \n",
       "0       WD        Normal     128000           1              0  \n",
       "1       WD        Normal     268000           1              0  \n",
       "2       WD        Normal     269790           1              0  \n",
       "3      COD        Normal     190000           1              0  \n",
       "4       WD        Normal     215000           1              0  \n",
       "\n",
       "[5 rows x 83 columns]"
      ]
     },
     "execution_count": 131,
     "metadata": {},
     "output_type": "execute_result"
    }
   ],
   "source": [
    "train.head(5)"
   ]
  },
  {
   "cell_type": "markdown",
   "id": "588af29c",
   "metadata": {},
   "source": [
    "# About the Columns"
   ]
  },
  {
   "cell_type": "raw",
   "id": "1fd7405d",
   "metadata": {},
   "source": [
    "(1) Id : This column shows the unique Id for house.\n",
    "(2) MSSubClass: MSSubClass: This column shows Identifies the type of dwelling involved in the sale.This column has following values-\n",
    "        20 1-STORY 1946 & NEWER ALL STYLES\n",
    "        30\t1-STORY 1945 & OLDER\n",
    "        40\t1-STORY W/FINISHED ATTIC ALL AGES\n",
    "        45\t1-1/2 STORY - UNFINISHED ALL AGES\n",
    "        50\t1-1/2 STORY FINISHED ALL AGES\n",
    "        60\t2-STORY 1946 & NEWER\n",
    "        70\t2-STORY 1945 & OLDER\n",
    "        75\t2-1/2 STORY ALL AGES\n",
    "        80\tSPLIT OR MULTI-LEVEL\n",
    "        85\tSPLIT FOYER\n",
    "        90\tDUPLEX - ALL STYLES AND AGES\n",
    "        120\t1-STORY PUD (Planned Unit Development) - 1946 & NEWER\n",
    "        150\t1-1/2 STORY PUD - ALL AGES\n",
    "        160\t2-STORY PUD - 1946 & NEWER\n",
    "        180\tPUD - MULTILEVEL - INCL SPLIT LEV/FOYER\n",
    "        190\t2 FAMILY CONVERSION - ALL STYLES AND AGES\n",
    "(3) MSZoning: This column shows Identifies the general zoning classification of the sale. This column has values as follows:\n",
    "        A\tAgriculture\n",
    "        C\tCommercial\n",
    "        FV\tFloating Village Residential\n",
    "        I\tIndustrial\n",
    "        RH\tResidential High Density\n",
    "        RL\tResidential Low Density\n",
    "        RP\tResidential Low Density Park \n",
    "        RM\tResidential Medium Density\n",
    "(4) LotFrontage: This column shows Linear feet of street connected to property\n",
    "        LotArea: Lot size in square feet\n",
    "        Street: Type of road access to property\n",
    "        Grvl\tGravel\t\n",
    "        Pave\tPaved\n",
    "(5) Alley: This column shows Type of alley access to property\n",
    "        Grvl\tGravel\n",
    "        Pave\tPaved\n",
    "        NA \tNo alley access\n",
    "(6) LotShape:This column shows General shape of property\n",
    "        Reg\tRegular\t\n",
    "        IR1\tSlightly irregular\n",
    "        IR2\tModerately Irregular\n",
    "        IR3\tIrregular\n",
    "(7) LandContour: This column shows Flatness of the property\n",
    "        Lvl\tNear Flat/Level\t\n",
    "        Bnk\tBanked - Quick and significant rise from street grade to building\n",
    "        HLS\tHillside - Significant slope from side to side\n",
    "        Low\tDepression\n",
    "(8) Utilities: This column shows Type of utilities available\n",
    "        AllPub\tAll public Utilities (E,G,W,& S)\t\n",
    "        NoSewr\tElectricity, Gas, and Water (Septic Tank)\n",
    "        NoSeWa\tElectricity and Gas Only\n",
    "        ELO\tElectricity only\t\n",
    "(9) LotConfig: This column shows Lot configuration\n",
    "        Inside\tInside lot\n",
    "        Corner\tCorner lot\n",
    "        CulDSac\tCul-de-sac\n",
    "        FR2\tFrontage on 2 sides of property\n",
    "        FR3\tFrontage on 3 sides of property\n",
    "(10) LandSlope: This column shows Slope of property\n",
    "        Gtl\tGentle slope\n",
    "        Mod\tModerate Slope\t\n",
    "        Sev\tSevere Slope\n",
    "(11) Neighborhood: This column shows Physical locations within Ames city limits\n",
    "        Blmngtn\tBloomington Heights\n",
    "        Blueste\tBluestem\n",
    "        BrDale\tBriardale\n",
    "        BrkSide\tBrookside\n",
    "        ClearCr\tClear Creek\n",
    "        CollgCr\tCollege Creek\n",
    "        Crawfor\tCrawford\n",
    "        Edwards\tEdwards\n",
    "        Gilbert\tGilbert\n",
    "        IDOTRR\tIowa DOT and Rail Road\n",
    "        MeadowV\tMeadow Village\n",
    "        Mitchel\tMitchell\n",
    "        Names\tNorth Ames\n",
    "        NoRidge\tNorthridge\n",
    "        NPkVill\tNorthpark Villa\n",
    "        NridgHt\tNorthridge Heights\n",
    "        NWAmes\tNorthwest Ames\n",
    "        OldTown\tOld Town\n",
    "        SWISU\tSouth & West of Iowa State University\n",
    "        Sawyer\tSawyer\n",
    "        SawyerW\tSawyer West\n",
    "        Somerst\tSomerset\n",
    "        StoneBr\tStone Brook\n",
    "        Timber\tTimberland\n",
    "        Veenker\tVeenker\n",
    "(12) Condition1: This column shows Proximity to various conditions\n",
    "        Artery\tAdjacent to arterial street\n",
    "        Feedr\tAdjacent to feeder street\t\n",
    "        Norm\tNormal\t\n",
    "        RRNn\tWithin 200' of North-South Railroad\n",
    "        RRAn\tAdjacent to North-South Railroad\n",
    "        PosN\tNear positive off-site feature--park, greenbelt, etc.\n",
    "        PosA\tAdjacent to postive off-site feature\n",
    "        RRNe\tWithin 200' of East-West Railroad\n",
    "        RRAe\tAdjacent to East-West Railroad\n",
    "(13) Condition2: This column shows Proximity to various conditions (if more than one is present)\n",
    "        Artery\tAdjacent to arterial street\n",
    "        Feedr\tAdjacent to feeder street\t\n",
    "        Norm\tNormal\t\n",
    "        RRNn\tWithin 200' of North-South Railroad\n",
    "        RRAn\tAdjacent to North-South Railroad\n",
    "        PosN\tNear positive off-site feature--park, greenbelt, etc.\n",
    "        PosA\tAdjacent to postive off-site feature\n",
    "        RRNe\tWithin 200' of East-West Railroad\n",
    "        RRAe\tAdjacent to East-West Railroad\n",
    "(14) BldgType: This column shows Type of dwelling\n",
    "        1Fam\tSingle-family Detached\t\n",
    "        2FmCon\tTwo-family Conversion; originally built as one-family dwelling\n",
    "        Duplx\tDuplex\n",
    "        TwnhsE\tTownhouse End Unit\n",
    "        TwnhsI\tTownhouse Inside Unit\n",
    "(15) HouseStyle: This column shows Style of dwelling\n",
    "        1Story\tOne story\n",
    "        1.5Fin\tOne and one-half story: 2nd level finished\n",
    "        1.5Unf\tOne and one-half story: 2nd level unfinished\n",
    "        2Story\tTwo story\n",
    "        2.5Fin\tTwo and one-half story: 2nd level finished\n",
    "        2.5Unf\tTwo and one-half story: 2nd level unfinished\n",
    "        SFoyer\tSplit Foyer\n",
    "        SLvl\tSplit Level\n",
    "(16) OverallQual: This column shows Rates the overall material and finish of the house\n",
    "        10\tVery Excellent\n",
    "        9\tExcellent\n",
    "        8\tVery Good\n",
    "        7\tGood\n",
    "        6\tAbove Average\n",
    "        5\tAverage\n",
    "        4\tBelow Average\n",
    "        3\tFair\n",
    "        2\tPoor\n",
    "        1\tVery Poor\n",
    "(17) OverallCond: This column shows Rates the overall condition of the house\n",
    "        10\tVery Excellent\n",
    "        9\tExcellent\n",
    "        8\tVery Good\n",
    "        7\tGood\n",
    "        6\tAbove Average\t\n",
    "        5\tAverage\n",
    "        4\tBelow Average\t\n",
    "        3\tFair\n",
    "        2\tPoor\n",
    "        1\tVery Poor\n",
    "(18) YearBuilt: This column shows Original construction date\n",
    "(19) YearRemodAdd: This column shows Remodel date (same as construction date if no remodeling or additions)\n",
    "(20) RoofStyle:This column shows Type of roof\n",
    "        Flat\tFlat\n",
    "        Gable\tGable\n",
    "        Gambrel\tGabrel (Barn)\n",
    "        Hip\tHip\n",
    "        Mansard\tMansard\n",
    "        Shed\tShed\n",
    "(21) RoofMatl: This column shows Roof material\n",
    "(22) ClyTile: This column shows Clay or Tile\n",
    "        CompShg\tStandard (Composite) Shingle\n",
    "        Membran\tMembrane\n",
    "        Metal\tMetal\n",
    "        Roll\tRoll\n",
    "        Tar&Grv\tGravel & Tar\n",
    "        WdShake\tWood Shakes\n",
    "        WdShngl\tWood Shingles\n",
    "(23) Exterior1st: This column shows Exterior covering on house\n",
    "        AsbShng\tAsbestos Shingles\n",
    "        AsphShn\tAsphalt Shingles\n",
    "        BrkComm\tBrick Common\n",
    "        BrkFace\tBrick Face\n",
    "        CBlock\tCinder Block\n",
    "        CemntBd\tCement Board\n",
    "        HdBoard\tHard Board\n",
    "        ImStucc\tImitation Stucco\n",
    "        MetalSd\tMetal Siding\n",
    "        Other\tOther\n",
    "        Plywood\tPlywood\n",
    "        PreCast\tPreCast\t\n",
    "        Stone\tStone\n",
    "        Stucco\tStucco\n",
    "        VinylSd\tVinyl Siding\n",
    "        Wd Sdng\tWood Siding\n",
    "        WdShing\tWood Shingles\n",
    "(24) Exterior2nd: This column shows Exterior covering on house (if more than one material)\n",
    "        AsbShng\tAsbestos Shingles\n",
    "        AsphShn\tAsphalt Shingles\n",
    "        BrkComm\tBrick Common\n",
    "        BrkFace\tBrick Face\n",
    "        CBlock\tCinder Block\n",
    "        CemntBd\tCement Board\n",
    "        HdBoard\tHard Board\n",
    "        ImStucc\tImitation Stucco\n",
    "        MetalSd\tMetal Siding\n",
    "        Other\tOther\n",
    "        Plywood\tPlywood\n",
    "        PreCast\tPreCast\n",
    "        Stone\tStone\n",
    "        Stucco\tStucco\n",
    "        VinylSd\tVinyl Siding\n",
    "        Wd Sdng\tWood Siding\n",
    "        WdShing\tWood Shingles\n",
    "(25) MasVnrType: This column shows Masonry veneer type\n",
    "        BrkCmn\tBrick Common\n",
    "        BrkFace\tBrick Face\n",
    "        CBlock\tCinder Block\n",
    "        None\tNone\n",
    "        Stone\tStone\n",
    "(26) MasVnrArea: This column shows Masonry veneer area in square feet\n",
    "(27) ExterQual: This column shows Evaluates the quality of the material on the exterior \n",
    "        Ex\tExcellent\n",
    "        Gd\tGood\n",
    "        TA\tAverage/Typical\n",
    "        Fa\tFair\n",
    "        Po\tPoor\n",
    "(28) ExterCond: This column shows Evaluates the present condition of the material on the exterior\n",
    "        Ex\tExcellent\n",
    "        Gd\tGood\n",
    "        TA\tAverage/Typical\n",
    "        Fa\tFair\n",
    "        Po\tPoor\n",
    "(29) Foundation: This column shows Type of foundation\n",
    "        BrkTil\tBrick & Tile\n",
    "        CBlock\tCinder Block\n",
    "        PConc\tPoured Contrete\t\n",
    "        Slab\tSlab\n",
    "        Stone\tStone\n",
    "        Wood\tWood\n",
    "(30) BsmtQual: This column shows Evaluates the height of the basement\n",
    "        Ex\tExcellent (100+ inches)\t\n",
    "        Gd\tGood (90-99 inches)\n",
    "        TA\tTypical (80-89 inches)\n",
    "        Fa\tFair (70-79 inches)\n",
    "        Po\tPoor (<70 inches\n",
    "        NA\tNo Basement\n",
    "(31) BsmtCond: This column shows Evaluates the general condition of the basement\n",
    "        Ex\tExcellent\n",
    "        Gd\tGood\n",
    "        TA\tTypical - slight dampness allowed\n",
    "        Fa\tFair - dampness or some cracking or settling\n",
    "        Po\tPoor - Severe cracking, settling, or wetness\n",
    "        NA\tNo Basement\n",
    "(32) BsmtExposure: This column shows Refers to walkout or garden level walls\n",
    "        Gd\tGood Exposure\n",
    "        Av\tAverage Exposure (split levels or foyers typically score average or above)\t\n",
    "        Mn\tMimimum Exposure\n",
    "        No\tNo Exposure\n",
    "        NA\tNo Basement\n",
    "(33) BsmtFinType1: Rating of basement finished area\n",
    "        GLQ\tGood Living Quarters\n",
    "        ALQ\tAverage Living Quarters\n",
    "        BLQ\tBelow Average Living Quarters\t\n",
    "        Rec\tAverage Rec Room\n",
    "        LwQ\tLow Quality\n",
    "        Unf\tUnfinshed\n",
    "        NA\tNo Basement\n",
    "(34) BsmtFinSF1: Type 1 finished square feet\n",
    "(35) BsmtFinType2: Rating of basement finished area (if multiple types)\n",
    "        GLQ\tGood Living Quarters\n",
    "        ALQ\tAverage Living Quarters\n",
    "        BLQ\tBelow Average Living Quarters\t\n",
    "        Rec\tAverage Rec Room\n",
    "        LwQ\tLow Quality\n",
    "        Unf\tUnfinshed\n",
    "        NA\tNo Basement\n",
    "(36) BsmtFinSF2: Type 2 finished square feet\n",
    "(37) BsmtUnfSF: Unfinished square feet of basement area\n",
    "(38) TotalBsmtSF: Total square feet of basement area\n",
    "(39) Heating: Type of heating\n",
    "        Floor\tFloor Furnace\n",
    "        GasA\tGas forced warm air furnace\n",
    "        GasW\tGas hot water or steam heat\n",
    "        Grav\tGravity furnace\t\n",
    "        OthW\tHot water or steam heat other than gas\n",
    "        Wall\tWall furnace\n",
    "(40) HeatingQC: Heating quality and condition\n",
    "        Ex\tExcellent\n",
    "        Gd\tGood\n",
    "        TA\tAverage/Typical\n",
    "        Fa\tFair\n",
    "        Po\tPoor\n",
    "(41) CentralAir: Central air conditioning\n",
    "        N\tNo\n",
    "        Y\tYes\n",
    "(44) Electrical: This column shows Electrical system\n",
    "        SBrkr\tStandard Circuit Breakers & Romex\n",
    "        FuseA\tFuse Box over 60 AMP and all Romex wiring (Average)\t\n",
    "        FuseF\t60 AMP Fuse Box and mostly Romex wiring (Fair)\n",
    "        FuseP\t60 AMP Fuse Box and mostly knob & tube wiring (poor)\n",
    "        Mix\tMixed\n",
    "(45) 1stFlrSF: This column shows First Floor square feet\n",
    "(46) 2ndFlrSF: This column shows Second floor square feet\n",
    "(47) LowQualFinSF: This column shows Low quality finished square feet (all floors)\n",
    "(48) GrLivArea: This column shows Above grade (ground) living area square feet\n",
    "(49) BsmtFullBath: This column shows Basement full bathrooms\n",
    "(50) BsmtHalfBath: This column shows Basement half bathrooms\n",
    "(51) FullBath: This column shows Full bathrooms above grade\n",
    "(52) HalfBath:This column shows Half baths above grade\n",
    "(53) Bedroom: This column shows Bedrooms above grade (does NOT include basement bedrooms)\n",
    "(54) Kitchen: This column shows Kitchens above grade\n",
    "(55) KitchenQual:This column shows Kitchen quality\n",
    "        Ex\tExcellent\n",
    "        Gd\tGood\n",
    "        TA\tTypical/Average\n",
    "        Fa\tFair\n",
    "        Po\tPoor\n",
    "(56) TotRmsAbvGrd:This column shows Total rooms above grade (does not include bathrooms)\n",
    "(57) Functional:This column shows Home functionality (Assume typical unless deductions are warranted)\n",
    "        Typ\tTypical Functionality\n",
    "        Min1\tMinor Deductions 1\n",
    "        Min2\tMinor Deductions 2\n",
    "        Mod\tModerate Deductions\n",
    "        Maj1\tMajor Deductions 1\n",
    "        Maj2\tMajor Deductions 2\n",
    "        Sev\tSeverely Damaged\n",
    "        Sal\tSalvage only\n",
    "(58) Fireplaces: This column shows Number of fireplaces\n",
    "(59) FireplaceQu: Fireplace quality\n",
    "        Ex\tExcellent - Exceptional Masonry Fireplace\n",
    "        Gd\tGood - Masonry Fireplace in main level\n",
    "        TA\tAverage - Prefabricated Fireplace in main living area or Masonry Fireplace in basement\n",
    "        Fa\tFair - Prefabricated Fireplace in basement\n",
    "        Po\tPoor - Ben Franklin Stove\n",
    "        NA\tNo Fireplace\n",
    "(60) GarageType:This column shows Garage location\n",
    "        2Types\tMore than one type of garage\n",
    "        Attchd\tAttached to home\n",
    "        Basment\tBasement Garage\n",
    "        BuiltIn\tBuilt-In (Garage part of house - typically has room above garage)\n",
    "        CarPort\tCar Port\n",
    "        Detchd\tDetached from home\n",
    "        NA\tNo Garage\n",
    "(61) GarageYrBlt: This column shows Year garage was built\n",
    "(62) GarageFinish: This column shows Interior finish of the garage\n",
    "        Fin\tFinished\n",
    "        RFn\tRough Finished\t\n",
    "        Unf\tUnfinished\n",
    "        NA\tNo Garage\n",
    "(63) GarageCars: Size of garage in car capacity\n",
    "(64) GarageArea: Size of garage in square feet\n",
    "(65) GarageQual: Garage quality\n",
    "        Ex\tExcellent\n",
    "        Gd\tGood\n",
    "        TA\tTypical/Average\n",
    "        Fa\tFair\n",
    "        Po\tPoor\n",
    "        NA\tNo Garage\n",
    "(66) GarageCond: Garage condition\n",
    "        Ex\tExcellent\n",
    "        Gd\tGood\n",
    "        TA\tTypical/Average\n",
    "        Fa\tFair\n",
    "        Po\tPoor\n",
    "        NA\tNo Garage\n",
    "(67) PavedDrive: This column shows Paved driveway\n",
    "        Y\tPaved \n",
    "        P\tPartial Pavement\n",
    "        N\tDirt/Gravel\n",
    "(68) WoodDeckSF: This column shows Wood deck area in square feet\n",
    "(69) OpenPorchSF:This column shows Open porch area in square feet\n",
    "(70) EnclosedPorch:This column shows Enclosed porch area in square feet\n",
    "(71) 3SsnPorch: This column shows Three season porch area in square feet\n",
    "(72) ScreenPorch: This column shows Screen porch area in square feet\n",
    "(73) PoolArea:This column shows Pool area in square feet\n",
    "(74) PoolQC:This column shows Pool quality\n",
    "        Ex\tExcellent\n",
    "        Gd\tGood\n",
    "        TA\tAverage/Typical\n",
    "        Fa\tFair\n",
    "        NA\tNo Pool\n",
    "(75) Fence: This column shows Fence quality\n",
    "        GdPrv\tGood Privacy\n",
    "        MnPrv\tMinimum Privacy\n",
    "        GdWo\tGood Wood\n",
    "        MnWw\tMinimum Wood/Wire\n",
    "        NA\tNo Fence\n",
    "(76) MiscFeature: This column shows Miscellaneous feature not covered in other categories\n",
    "        Elev\tElevator\n",
    "        Gar2\t2nd Garage (if not described in garage section)\n",
    "        Othr\tOther\n",
    "        Shed\tShed (over 100 SF)\n",
    "        TenC\tTennis Court\n",
    "        NA\tNone\n",
    "(77) MiscVal: This column shows $Value of miscellaneous feature\n",
    "(78) MoSold: This column shows Month Sold (MM)\n",
    "(79) YrSold: This column shows Year Sold (YYYY)\n",
    "(80) SaleType: This column shows Type of sale\n",
    "        WD \tWarranty Deed - Conventional\n",
    "        CWD\tWarranty Deed - Cash\n",
    "        VWD\tWarranty Deed - VA Loan\n",
    "        New\tHome just constructed and sold\n",
    "        COD\tCourt Officer Deed/Estate\n",
    "        Con\tContract 15% Down payment regular terms\n",
    "        ConLw\tContract Low Down payment and low interest\n",
    "        ConLI\tContract Low Interest\n",
    "        ConLD\tContract Low Down\n",
    "        Oth\tOther\n",
    "(81) SaleCondition: This column shows Condition of sale\n",
    "        Normal\tNormal Sale\n",
    "        Abnorml\tAbnormal Sale -  trade, foreclosure, short sale\n",
    "        AdjLand\tAdjoining Land Purchase\n",
    "        Alloca\tAllocation - two linked properties with separate deeds, typically condo with a garage unit\t\n",
    "        Family\tSale between family members\n",
    "        Partial\tHome was not completed when last assessed (associated with New Homes)"
   ]
  },
  {
   "cell_type": "code",
   "execution_count": 45,
   "id": "a4e364b3",
   "metadata": {},
   "outputs": [],
   "source": [
    "import matplotlib.pyplot as plt\n",
    "plt.style.use(style='ggplot')\n",
    "plt.rcParams['figure.figsize'] = (10, 6)"
   ]
  },
  {
   "cell_type": "markdown",
   "id": "1b6677fe",
   "metadata": {},
   "source": [
    "# Step 2: Explore the data and engineer Features\n",
    "The challenge is to predict the final sale price of the homes. This information is stored in the SalePrice column. The value we are trying to predict is often called the target variable.\n",
    "\n",
    "We can use Series.describe() to get more information."
   ]
  },
  {
   "cell_type": "code",
   "execution_count": 46,
   "id": "69a5e2ab",
   "metadata": {},
   "outputs": [
    {
     "data": {
      "text/plain": [
       "count      1168.000000\n",
       "mean     181477.005993\n",
       "std       79105.586863\n",
       "min       34900.000000\n",
       "25%      130375.000000\n",
       "50%      163995.000000\n",
       "75%      215000.000000\n",
       "max      755000.000000\n",
       "Name: SalePrice, dtype: float64"
      ]
     },
     "execution_count": 46,
     "metadata": {},
     "output_type": "execute_result"
    }
   ],
   "source": [
    "train.SalePrice.describe()"
   ]
  },
  {
   "cell_type": "markdown",
   "id": "f4e41591",
   "metadata": {},
   "source": [
    "Series.describe() gives you more information about any series. count displays the total number of rows in the series. For numerical data, Series.describe() also gives the mean, std, min and max values as well."
   ]
  },
  {
   "cell_type": "markdown",
   "id": "d3ed436f",
   "metadata": {},
   "source": [
    "Next, we’ll check for skewness, which is a measure of the shape of the distribution of values.\n",
    "\n"
   ]
  },
  {
   "cell_type": "markdown",
   "id": "b14b2f6c",
   "metadata": {},
   "source": [
    "We use plt.hist() to plot a histogram of SalePrice. Notice that the distribution has a longer tail on the right. The distribution is positively skewed."
   ]
  },
  {
   "cell_type": "code",
   "execution_count": 47,
   "id": "f6667025",
   "metadata": {},
   "outputs": [
    {
     "name": "stdout",
     "output_type": "stream",
     "text": [
      "Skew is: 1.953877705368286\n"
     ]
    },
    {
     "data": {
      "image/png": "[encoded data removed]",
      "text/plain": [
       "<Figure size 720x432 with 1 Axes>"
      ]
     },
     "metadata": {},
     "output_type": "display_data"
    }
   ],
   "source": [
    "print (\"Skew is:\", train.SalePrice.skew())\n",
    "plt.hist(train.SalePrice, color='blue')\n",
    "plt.show()"
   ]
  },
  {
   "cell_type": "markdown",
   "id": "cbb5ac2c",
   "metadata": {},
   "source": [
    "Now we use np.log() to transform train.SalePric and calculate the skewness a second time, as well as re-plot the data. A value closer to 0 means that we have improved the skewness of the data. We can see visually that the data will more resembles a normal distribution."
   ]
  },
  {
   "cell_type": "code",
   "execution_count": 48,
   "id": "2d73a8ec",
   "metadata": {},
   "outputs": [
    {
     "name": "stdout",
     "output_type": "stream",
     "text": [
      "Skew is: 0.07359740998337982\n"
     ]
    },
    {
     "data": {
      "image/png": "[encoded data removed]",
      "text/plain": [
       "<Figure size 720x432 with 1 Axes>"
      ]
     },
     "metadata": {},
     "output_type": "display_data"
    }
   ],
   "source": [
    "target = np.log(train.SalePrice)\n",
    "print (\"Skew is:\", target.skew())\n",
    "plt.hist(target, color='blue')\n",
    "plt.show()"
   ]
  },
  {
   "cell_type": "markdown",
   "id": "ba8abc8e",
   "metadata": {},
   "source": [
    "Skew is: 0.07359740998337982"
   ]
  },
  {
   "cell_type": "markdown",
   "id": "48c01af7",
   "metadata": {},
   "source": [
    "Now that we’ve transformed the target variable, let’s consider our features. First, we’ll check out the numerical features and make some plots. The .select_dtypes() method will return a subset of columns matching the specified data types."
   ]
  },
  {
   "cell_type": "markdown",
   "id": "e5d4fa29",
   "metadata": {},
   "source": [
    "# Working with Numeric Features"
   ]
  },
  {
   "cell_type": "code",
   "execution_count": 49,
   "id": "462d954a",
   "metadata": {},
   "outputs": [
    {
     "data": {
      "text/plain": [
       "Id                 int64\n",
       "MSSubClass         int64\n",
       "LotFrontage      float64\n",
       "LotArea            int64\n",
       "OverallQual        int64\n",
       "OverallCond        int64\n",
       "YearBuilt          int64\n",
       "YearRemodAdd       int64\n",
       "MasVnrArea       float64\n",
       "BsmtFinSF1         int64\n",
       "BsmtFinSF2         int64\n",
       "BsmtUnfSF          int64\n",
       "TotalBsmtSF        int64\n",
       "1stFlrSF           int64\n",
       "2ndFlrSF           int64\n",
       "LowQualFinSF       int64\n",
       "GrLivArea          int64\n",
       "BsmtFullBath       int64\n",
       "BsmtHalfBath       int64\n",
       "FullBath           int64\n",
       "HalfBath           int64\n",
       "BedroomAbvGr       int64\n",
       "KitchenAbvGr       int64\n",
       "TotRmsAbvGrd       int64\n",
       "Fireplaces         int64\n",
       "GarageYrBlt      float64\n",
       "GarageCars         int64\n",
       "GarageArea         int64\n",
       "WoodDeckSF         int64\n",
       "OpenPorchSF        int64\n",
       "EnclosedPorch      int64\n",
       "3SsnPorch          int64\n",
       "ScreenPorch        int64\n",
       "PoolArea           int64\n",
       "MiscVal            int64\n",
       "MoSold             int64\n",
       "YrSold             int64\n",
       "SalePrice          int64\n",
       "dtype: object"
      ]
     },
     "execution_count": 49,
     "metadata": {},
     "output_type": "execute_result"
    }
   ],
   "source": [
    "numeric_features = train.select_dtypes(include=[np.number])\n",
    "numeric_features.dtypes"
   ]
  },
  {
   "cell_type": "markdown",
   "id": "02b50df1",
   "metadata": {},
   "source": [
    "The DataFrame.corr() method displays the correlation (or relationship) between the columns. We’ll examine the correlations between the features and the target."
   ]
  },
  {
   "cell_type": "code",
   "execution_count": 50,
   "id": "be066457",
   "metadata": {},
   "outputs": [
    {
     "name": "stdout",
     "output_type": "stream",
     "text": [
      "SalePrice      1.000000\n",
      "OverallQual    0.789185\n",
      "GrLivArea      0.707300\n",
      "GarageCars     0.628329\n",
      "GarageArea     0.619000\n",
      "Name: SalePrice, dtype: float64 \n",
      "\n",
      "YrSold          -0.045508\n",
      "MSSubClass      -0.060775\n",
      "OverallCond     -0.065642\n",
      "EnclosedPorch   -0.115004\n",
      "KitchenAbvGr    -0.132108\n",
      "Name: SalePrice, dtype: float64\n"
     ]
    }
   ],
   "source": [
    "corr = numeric_features.corr()\n",
    "print (corr['SalePrice'].sort_values(ascending=False)[:5], '\\n')\n",
    "print (corr['SalePrice'].sort_values(ascending=False)[-5:])"
   ]
  },
  {
   "cell_type": "markdown",
   "id": "c8decd93",
   "metadata": {},
   "source": [
    "The first five features are the most positively correlated with SalePrice, while the next five are the most negatively correlated."
   ]
  },
  {
   "cell_type": "markdown",
   "id": "58bafe0c",
   "metadata": {},
   "source": [
    "Let’s dig deeper on OverallQual. We can use the .unique() method to get the unique values."
   ]
  },
  {
   "cell_type": "code",
   "execution_count": 51,
   "id": "95c9ed08",
   "metadata": {},
   "outputs": [
    {
     "data": {
      "text/plain": [
       "array([ 6,  8,  7,  5,  9,  1,  2,  4,  3, 10], dtype=int64)"
      ]
     },
     "execution_count": 51,
     "metadata": {},
     "output_type": "execute_result"
    }
   ],
   "source": [
    "train.OverallQual.unique()"
   ]
  },
  {
   "cell_type": "markdown",
   "id": "b2beb120",
   "metadata": {},
   "source": [
    "The OverallQual data are integer values in the interval 1 to 10 inclusive."
   ]
  },
  {
   "cell_type": "markdown",
   "id": "3ced9757",
   "metadata": {},
   "source": [
    "We can create a pivot table to further investigate the relationship between OverallQual and SalePrice. The Pandas docs demonstrate how to accomplish this task. We set index='OverallQual' and values='SalePrice'. We chose to look at the median here."
   ]
  },
  {
   "cell_type": "code",
   "execution_count": 52,
   "id": "4bb534ee",
   "metadata": {},
   "outputs": [],
   "source": [
    "quality_pivot = train.pivot_table(index='OverallQual',\n",
    "                  values='SalePrice', aggfunc=np.median)"
   ]
  },
  {
   "cell_type": "code",
   "execution_count": 53,
   "id": "7302b6e6",
   "metadata": {},
   "outputs": [
    {
     "data": {
      "text/html": [
       "<div>\n",
       "<style scoped>\n",
       "    .dataframe tbody tr th:only-of-type {\n",
       "        vertical-align: middle;\n",
       "    }\n",
       "\n",
       "    .dataframe tbody tr th {\n",
       "        vertical-align: top;\n",
       "    }\n",
       "\n",
       "    .dataframe thead th {\n",
       "        text-align: right;\n",
       "    }\n",
       "</style>\n",
       "<table border=\"1\" class=\"dataframe\">\n",
       "  <thead>\n",
       "    <tr style=\"text-align: right;\">\n",
       "      <th></th>\n",
       "      <th>SalePrice</th>\n",
       "    </tr>\n",
       "    <tr>\n",
       "      <th>OverallQual</th>\n",
       "      <th></th>\n",
       "    </tr>\n",
       "  </thead>\n",
       "  <tbody>\n",
       "    <tr>\n",
       "      <th>1</th>\n",
       "      <td>50150.0</td>\n",
       "    </tr>\n",
       "    <tr>\n",
       "      <th>2</th>\n",
       "      <td>60000.0</td>\n",
       "    </tr>\n",
       "    <tr>\n",
       "      <th>3</th>\n",
       "      <td>86250.0</td>\n",
       "    </tr>\n",
       "    <tr>\n",
       "      <th>4</th>\n",
       "      <td>108959.0</td>\n",
       "    </tr>\n",
       "    <tr>\n",
       "      <th>5</th>\n",
       "      <td>133700.0</td>\n",
       "    </tr>\n",
       "    <tr>\n",
       "      <th>6</th>\n",
       "      <td>160000.0</td>\n",
       "    </tr>\n",
       "    <tr>\n",
       "      <th>7</th>\n",
       "      <td>200120.5</td>\n",
       "    </tr>\n",
       "    <tr>\n",
       "      <th>8</th>\n",
       "      <td>268750.0</td>\n",
       "    </tr>\n",
       "    <tr>\n",
       "      <th>9</th>\n",
       "      <td>343821.5</td>\n",
       "    </tr>\n",
       "    <tr>\n",
       "      <th>10</th>\n",
       "      <td>426000.0</td>\n",
       "    </tr>\n",
       "  </tbody>\n",
       "</table>\n",
       "</div>"
      ],
      "text/plain": [
       "             SalePrice\n",
       "OverallQual           \n",
       "1              50150.0\n",
       "2              60000.0\n",
       "3              86250.0\n",
       "4             108959.0\n",
       "5             133700.0\n",
       "6             160000.0\n",
       "7             200120.5\n",
       "8             268750.0\n",
       "9             343821.5\n",
       "10            426000.0"
      ]
     },
     "execution_count": 53,
     "metadata": {},
     "output_type": "execute_result"
    }
   ],
   "source": [
    "quality_pivot"
   ]
  },
  {
   "cell_type": "markdown",
   "id": "5a024c8b",
   "metadata": {},
   "source": [
    "To help us visualize this pivot table more easily, we can create a bar plot using the Series.plot() method."
   ]
  },
  {
   "cell_type": "code",
   "execution_count": 55,
   "id": "1a6039fc",
   "metadata": {},
   "outputs": [
    {
     "data": {
      "image/png": "[encoded data removed]",
      "text/plain": [
       "<Figure size 720x432 with 1 Axes>"
      ]
     },
     "metadata": {},
     "output_type": "display_data"
    }
   ],
   "source": [
    "quality_pivot.plot(kind='bar', color='blue')\n",
    "plt.xlabel('Overall Quality')\n",
    "plt.ylabel('Median Sale Price')\n",
    "plt.xticks(rotation=0)\n",
    "plt.show()"
   ]
  },
  {
   "cell_type": "markdown",
   "id": "bbaaddc2",
   "metadata": {},
   "source": [
    "Notice that the median sales price strictly increases as Overall Quality increases."
   ]
  },
  {
   "cell_type": "markdown",
   "id": "778e33dc",
   "metadata": {},
   "source": [
    "Next, let’s use plt.scatter() to generate some scatter plots and visualize the relationship between the Ground Living Area GrLivArea and SalePrice."
   ]
  },
  {
   "cell_type": "code",
   "execution_count": 56,
   "id": "2df2cf0a",
   "metadata": {},
   "outputs": [
    {
     "data": {
      "image/png": "[encoded data removed]",
      "text/plain": [
       "<Figure size 720x432 with 1 Axes>"
      ]
     },
     "metadata": {},
     "output_type": "display_data"
    }
   ],
   "source": [
    "plt.scatter(x=train['GrLivArea'], y=target)\n",
    "plt.ylabel('Sale Price')\n",
    "plt.xlabel('Above grade (ground) living area square feet')\n",
    "plt.show()"
   ]
  },
  {
   "cell_type": "markdown",
   "id": "d69a555c",
   "metadata": {},
   "source": [
    " we see that increases in living area correspond to increases in price. We will do the same for GarageArea."
   ]
  },
  {
   "cell_type": "code",
   "execution_count": 57,
   "id": "86c734cf",
   "metadata": {},
   "outputs": [
    {
     "data": {
      "image/png": "[encoded data removed]",
      "text/plain": [
       "<Figure size 720x432 with 1 Axes>"
      ]
     },
     "metadata": {},
     "output_type": "display_data"
    }
   ],
   "source": [
    "plt.scatter(x=train['GarageArea'], y=target)\n",
    "plt.ylabel('Sale Price')\n",
    "plt.xlabel('Garage Area')\n",
    "plt.show()"
   ]
  },
  {
   "cell_type": "markdown",
   "id": "3b141f76",
   "metadata": {},
   "source": [
    "we notice that there are many homes with 0 for Garage Area, indicating that they don’t have a garage. We’ll transform other features later to reflect this assumption. There are a few outliers as well. Outliers can affect a regression model by pulling our estimated regression line further away from the true population regression line. So, we’ll remove those observations from our data. Removing outliers is an art and a science. There are many techniques for dealing with outliers.\n",
    "\n",
    "We will create a new dataframe with some outliers removed."
   ]
  },
  {
   "cell_type": "code",
   "execution_count": 58,
   "id": "fad5fb8f",
   "metadata": {},
   "outputs": [],
   "source": [
    "train = train[train['GarageArea'] < 1200]"
   ]
  },
  {
   "cell_type": "code",
   "execution_count": 59,
   "id": "71657d6c",
   "metadata": {},
   "outputs": [
    {
     "data": {
      "image/png": "[encoded data removed]",
      "text/plain": [
       "<Figure size 720x432 with 1 Axes>"
      ]
     },
     "metadata": {},
     "output_type": "display_data"
    }
   ],
   "source": [
    "plt.scatter(x=train['GarageArea'], y=np.log(train.SalePrice))\n",
    "plt.xlim(-200,1600) # This forces the same scale as before\n",
    "plt.ylabel('Sale Price')\n",
    "plt.xlabel('Garage Area')\n",
    "plt.show()\n"
   ]
  },
  {
   "cell_type": "markdown",
   "id": "bc047baf",
   "metadata": {},
   "source": [
    "# Handling Null Values\n",
    "Next, we’ll examine the null or missing values."
   ]
  },
  {
   "cell_type": "markdown",
   "id": "621c1054",
   "metadata": {},
   "source": [
    "We will create a DataFrame to view the top null columns. Chaining together the train.isnull().sum() methods, we return a Series of the counts of the null values in each column."
   ]
  },
  {
   "cell_type": "code",
   "execution_count": 60,
   "id": "a497d03b",
   "metadata": {},
   "outputs": [
    {
     "data": {
      "text/html": [
       "<div>\n",
       "<style scoped>\n",
       "    .dataframe tbody tr th:only-of-type {\n",
       "        vertical-align: middle;\n",
       "    }\n",
       "\n",
       "    .dataframe tbody tr th {\n",
       "        vertical-align: top;\n",
       "    }\n",
       "\n",
       "    .dataframe thead th {\n",
       "        text-align: right;\n",
       "    }\n",
       "</style>\n",
       "<table border=\"1\" class=\"dataframe\">\n",
       "  <thead>\n",
       "    <tr style=\"text-align: right;\">\n",
       "      <th></th>\n",
       "      <th>Null Count</th>\n",
       "    </tr>\n",
       "    <tr>\n",
       "      <th>Feature</th>\n",
       "      <th></th>\n",
       "    </tr>\n",
       "  </thead>\n",
       "  <tbody>\n",
       "    <tr>\n",
       "      <th>PoolQC</th>\n",
       "      <td>1157</td>\n",
       "    </tr>\n",
       "    <tr>\n",
       "      <th>MiscFeature</th>\n",
       "      <td>1120</td>\n",
       "    </tr>\n",
       "    <tr>\n",
       "      <th>Alley</th>\n",
       "      <td>1086</td>\n",
       "    </tr>\n",
       "    <tr>\n",
       "      <th>Fence</th>\n",
       "      <td>926</td>\n",
       "    </tr>\n",
       "    <tr>\n",
       "      <th>FireplaceQu</th>\n",
       "      <td>550</td>\n",
       "    </tr>\n",
       "    <tr>\n",
       "      <th>LotFrontage</th>\n",
       "      <td>213</td>\n",
       "    </tr>\n",
       "    <tr>\n",
       "      <th>GarageYrBlt</th>\n",
       "      <td>64</td>\n",
       "    </tr>\n",
       "    <tr>\n",
       "      <th>GarageFinish</th>\n",
       "      <td>64</td>\n",
       "    </tr>\n",
       "    <tr>\n",
       "      <th>GarageType</th>\n",
       "      <td>64</td>\n",
       "    </tr>\n",
       "    <tr>\n",
       "      <th>GarageQual</th>\n",
       "      <td>64</td>\n",
       "    </tr>\n",
       "    <tr>\n",
       "      <th>GarageCond</th>\n",
       "      <td>64</td>\n",
       "    </tr>\n",
       "    <tr>\n",
       "      <th>BsmtExposure</th>\n",
       "      <td>31</td>\n",
       "    </tr>\n",
       "    <tr>\n",
       "      <th>BsmtFinType2</th>\n",
       "      <td>31</td>\n",
       "    </tr>\n",
       "    <tr>\n",
       "      <th>BsmtQual</th>\n",
       "      <td>30</td>\n",
       "    </tr>\n",
       "    <tr>\n",
       "      <th>BsmtCond</th>\n",
       "      <td>30</td>\n",
       "    </tr>\n",
       "    <tr>\n",
       "      <th>BsmtFinType1</th>\n",
       "      <td>30</td>\n",
       "    </tr>\n",
       "    <tr>\n",
       "      <th>MasVnrType</th>\n",
       "      <td>7</td>\n",
       "    </tr>\n",
       "    <tr>\n",
       "      <th>MasVnrArea</th>\n",
       "      <td>7</td>\n",
       "    </tr>\n",
       "    <tr>\n",
       "      <th>Id</th>\n",
       "      <td>0</td>\n",
       "    </tr>\n",
       "    <tr>\n",
       "      <th>Functional</th>\n",
       "      <td>0</td>\n",
       "    </tr>\n",
       "    <tr>\n",
       "      <th>Fireplaces</th>\n",
       "      <td>0</td>\n",
       "    </tr>\n",
       "    <tr>\n",
       "      <th>KitchenQual</th>\n",
       "      <td>0</td>\n",
       "    </tr>\n",
       "    <tr>\n",
       "      <th>KitchenAbvGr</th>\n",
       "      <td>0</td>\n",
       "    </tr>\n",
       "    <tr>\n",
       "      <th>BedroomAbvGr</th>\n",
       "      <td>0</td>\n",
       "    </tr>\n",
       "    <tr>\n",
       "      <th>HalfBath</th>\n",
       "      <td>0</td>\n",
       "    </tr>\n",
       "  </tbody>\n",
       "</table>\n",
       "</div>"
      ],
      "text/plain": [
       "              Null Count\n",
       "Feature                 \n",
       "PoolQC              1157\n",
       "MiscFeature         1120\n",
       "Alley               1086\n",
       "Fence                926\n",
       "FireplaceQu          550\n",
       "LotFrontage          213\n",
       "GarageYrBlt           64\n",
       "GarageFinish          64\n",
       "GarageType            64\n",
       "GarageQual            64\n",
       "GarageCond            64\n",
       "BsmtExposure          31\n",
       "BsmtFinType2          31\n",
       "BsmtQual              30\n",
       "BsmtCond              30\n",
       "BsmtFinType1          30\n",
       "MasVnrType             7\n",
       "MasVnrArea             7\n",
       "Id                     0\n",
       "Functional             0\n",
       "Fireplaces             0\n",
       "KitchenQual            0\n",
       "KitchenAbvGr           0\n",
       "BedroomAbvGr           0\n",
       "HalfBath               0"
      ]
     },
     "execution_count": 60,
     "metadata": {},
     "output_type": "execute_result"
    }
   ],
   "source": [
    "nulls = pd.DataFrame(train.isnull().sum().sort_values(ascending=False)[:25])\n",
    "nulls.columns = ['Null Count']\n",
    "nulls.index.name = 'Feature'\n",
    "nulls"
   ]
  },
  {
   "cell_type": "markdown",
   "id": "73b8164d",
   "metadata": {},
   "source": [
    "The documentation can help us understand the missing values. In the case of PoolQC, the column refers to Pool Quality. Pool quality is NaN when PoolArea is 0, or there is no pool.\n",
    "We can find a similar relationship between many of the Garage-related columns.\n",
    "\n",
    "Let’s take a look at one of the other columns, MiscFeature. We’ll use the Series.unique() method to return a list of the unique values."
   ]
  },
  {
   "cell_type": "code",
   "execution_count": 61,
   "id": "5a38d9d0",
   "metadata": {},
   "outputs": [
    {
     "name": "stdout",
     "output_type": "stream",
     "text": [
      "Unique values are: [nan 'Shed' 'Gar2' 'TenC' 'Othr']\n"
     ]
    }
   ],
   "source": [
    "print (\"Unique values are:\", train.MiscFeature.unique())"
   ]
  },
  {
   "cell_type": "markdown",
   "id": "e0654860",
   "metadata": {},
   "source": [
    "We can use the documentation to find out what these values indicate:"
   ]
  },
  {
   "cell_type": "raw",
   "id": "e2655716",
   "metadata": {},
   "source": [
    "MiscFeature: Miscellaneous feature not covered in other categories\n",
    "\n",
    "   Elev Elevator\n",
    "   Gar2 2nd Garage (if not described in garage section)\n",
    "   Othr Other\n",
    "   Shed Shed (over 100 SF)\n",
    "   TenC Tennis Court\n",
    "   NA   None"
   ]
  },
  {
   "cell_type": "markdown",
   "id": "e79c8df2",
   "metadata": {},
   "source": [
    "These values describe whether or not the house has a shed over 100 sqft, a second garage, and so on. We might want to use this information later. It’s important to gather domain knowledge in order to make the best decisions when dealing with missing data."
   ]
  },
  {
   "cell_type": "markdown",
   "id": "61ebf493",
   "metadata": {},
   "source": [
    "# Wrangling the non-numeric Features\n",
    "Let’s now consider the non-numeric features."
   ]
  },
  {
   "cell_type": "code",
   "execution_count": 63,
   "id": "40dc954c",
   "metadata": {},
   "outputs": [
    {
     "data": {
      "text/html": [
       "<div>\n",
       "<style scoped>\n",
       "    .dataframe tbody tr th:only-of-type {\n",
       "        vertical-align: middle;\n",
       "    }\n",
       "\n",
       "    .dataframe tbody tr th {\n",
       "        vertical-align: top;\n",
       "    }\n",
       "\n",
       "    .dataframe thead th {\n",
       "        text-align: right;\n",
       "    }\n",
       "</style>\n",
       "<table border=\"1\" class=\"dataframe\">\n",
       "  <thead>\n",
       "    <tr style=\"text-align: right;\">\n",
       "      <th></th>\n",
       "      <th>MSZoning</th>\n",
       "      <th>Street</th>\n",
       "      <th>Alley</th>\n",
       "      <th>LotShape</th>\n",
       "      <th>LandContour</th>\n",
       "      <th>Utilities</th>\n",
       "      <th>LotConfig</th>\n",
       "      <th>LandSlope</th>\n",
       "      <th>Neighborhood</th>\n",
       "      <th>Condition1</th>\n",
       "      <th>...</th>\n",
       "      <th>GarageType</th>\n",
       "      <th>GarageFinish</th>\n",
       "      <th>GarageQual</th>\n",
       "      <th>GarageCond</th>\n",
       "      <th>PavedDrive</th>\n",
       "      <th>PoolQC</th>\n",
       "      <th>Fence</th>\n",
       "      <th>MiscFeature</th>\n",
       "      <th>SaleType</th>\n",
       "      <th>SaleCondition</th>\n",
       "    </tr>\n",
       "  </thead>\n",
       "  <tbody>\n",
       "    <tr>\n",
       "      <th>count</th>\n",
       "      <td>1163</td>\n",
       "      <td>1163</td>\n",
       "      <td>77</td>\n",
       "      <td>1163</td>\n",
       "      <td>1163</td>\n",
       "      <td>1163</td>\n",
       "      <td>1163</td>\n",
       "      <td>1163</td>\n",
       "      <td>1163</td>\n",
       "      <td>1163</td>\n",
       "      <td>...</td>\n",
       "      <td>1099</td>\n",
       "      <td>1099</td>\n",
       "      <td>1099</td>\n",
       "      <td>1099</td>\n",
       "      <td>1163</td>\n",
       "      <td>6</td>\n",
       "      <td>237</td>\n",
       "      <td>43</td>\n",
       "      <td>1163</td>\n",
       "      <td>1163</td>\n",
       "    </tr>\n",
       "    <tr>\n",
       "      <th>unique</th>\n",
       "      <td>5</td>\n",
       "      <td>2</td>\n",
       "      <td>2</td>\n",
       "      <td>4</td>\n",
       "      <td>4</td>\n",
       "      <td>1</td>\n",
       "      <td>5</td>\n",
       "      <td>3</td>\n",
       "      <td>25</td>\n",
       "      <td>9</td>\n",
       "      <td>...</td>\n",
       "      <td>6</td>\n",
       "      <td>3</td>\n",
       "      <td>5</td>\n",
       "      <td>5</td>\n",
       "      <td>3</td>\n",
       "      <td>3</td>\n",
       "      <td>4</td>\n",
       "      <td>4</td>\n",
       "      <td>9</td>\n",
       "      <td>6</td>\n",
       "    </tr>\n",
       "    <tr>\n",
       "      <th>top</th>\n",
       "      <td>RL</td>\n",
       "      <td>Pave</td>\n",
       "      <td>Grvl</td>\n",
       "      <td>Reg</td>\n",
       "      <td>Lvl</td>\n",
       "      <td>AllPub</td>\n",
       "      <td>Inside</td>\n",
       "      <td>Gtl</td>\n",
       "      <td>NAmes</td>\n",
       "      <td>Norm</td>\n",
       "      <td>...</td>\n",
       "      <td>Attchd</td>\n",
       "      <td>Unf</td>\n",
       "      <td>TA</td>\n",
       "      <td>TA</td>\n",
       "      <td>Y</td>\n",
       "      <td>Ex</td>\n",
       "      <td>MnPrv</td>\n",
       "      <td>Shed</td>\n",
       "      <td>WD</td>\n",
       "      <td>Normal</td>\n",
       "    </tr>\n",
       "    <tr>\n",
       "      <th>freq</th>\n",
       "      <td>924</td>\n",
       "      <td>1160</td>\n",
       "      <td>41</td>\n",
       "      <td>736</td>\n",
       "      <td>1044</td>\n",
       "      <td>1163</td>\n",
       "      <td>838</td>\n",
       "      <td>1101</td>\n",
       "      <td>182</td>\n",
       "      <td>1002</td>\n",
       "      <td>...</td>\n",
       "      <td>688</td>\n",
       "      <td>487</td>\n",
       "      <td>1045</td>\n",
       "      <td>1056</td>\n",
       "      <td>1066</td>\n",
       "      <td>2</td>\n",
       "      <td>129</td>\n",
       "      <td>39</td>\n",
       "      <td>998</td>\n",
       "      <td>943</td>\n",
       "    </tr>\n",
       "  </tbody>\n",
       "</table>\n",
       "<p>4 rows × 43 columns</p>\n",
       "</div>"
      ],
      "text/plain": [
       "       MSZoning Street Alley LotShape LandContour Utilities LotConfig  \\\n",
       "count      1163   1163    77     1163        1163      1163      1163   \n",
       "unique        5      2     2        4           4         1         5   \n",
       "top          RL   Pave  Grvl      Reg         Lvl    AllPub    Inside   \n",
       "freq        924   1160    41      736        1044      1163       838   \n",
       "\n",
       "       LandSlope Neighborhood Condition1  ... GarageType GarageFinish  \\\n",
       "count       1163         1163       1163  ...       1099         1099   \n",
       "unique         3           25          9  ...          6            3   \n",
       "top          Gtl        NAmes       Norm  ...     Attchd          Unf   \n",
       "freq        1101          182       1002  ...        688          487   \n",
       "\n",
       "       GarageQual GarageCond PavedDrive PoolQC  Fence MiscFeature SaleType  \\\n",
       "count        1099       1099       1163      6    237          43     1163   \n",
       "unique          5          5          3      3      4           4        9   \n",
       "top            TA         TA          Y     Ex  MnPrv        Shed       WD   \n",
       "freq         1045       1056       1066      2    129          39      998   \n",
       "\n",
       "       SaleCondition  \n",
       "count           1163  \n",
       "unique             6  \n",
       "top           Normal  \n",
       "freq             943  \n",
       "\n",
       "[4 rows x 43 columns]"
      ]
     },
     "execution_count": 63,
     "metadata": {},
     "output_type": "execute_result"
    }
   ],
   "source": [
    "categoricals = train.select_dtypes(exclude=[np.number])\n",
    "categoricals.describe()"
   ]
  },
  {
   "cell_type": "raw",
   "id": "47eb5b7f",
   "metadata": {},
   "source": [
    "The count column indicates the count of non-null observations, while unique counts the number of unique values. top is the most commonly occurring value, with the frequency of the top value shown by freq.\n",
    "\n",
    "For many of these features, we might want to use one-hot encoding to make use of the information for modeling.\n",
    "One-hot encoding is a technique which will transform categorical data into numbers so the model can understand whether or not a particular observation falls into one category or another."
   ]
  },
  {
   "cell_type": "markdown",
   "id": "58783268",
   "metadata": {},
   "source": [
    "# Transforming and engineering features"
   ]
  },
  {
   "cell_type": "raw",
   "id": "28b49934",
   "metadata": {},
   "source": [
    "When transforming features, it’s important to remember that any transformations that you’ve applied to the training data before fitting the model must be applied to the test data.\n",
    "\n",
    "Our model expects that the shape of the features from the train set match those from the test set. This means that any feature engineering that occurred while working on the train data should be applied again on the test set.\n",
    "\n",
    "To demonstrate how this works, consider the Street data, which indicates whether there is Gravel or Paved road access to the property."
   ]
  },
  {
   "cell_type": "code",
   "execution_count": 65,
   "id": "c0ec1bfb",
   "metadata": {},
   "outputs": [
    {
     "name": "stdout",
     "output_type": "stream",
     "text": [
      "Original: \n",
      "\n",
      "Pave    1160\n",
      "Grvl       3\n",
      "Name: Street, dtype: int64 \n",
      "\n"
     ]
    }
   ],
   "source": [
    "print (\"Original: \\n\")\n",
    "print (train.Street.value_counts(), \"\\n\")"
   ]
  },
  {
   "cell_type": "markdown",
   "id": "dda181c7",
   "metadata": {},
   "source": [
    "In the Street column, the unique values are Pave and Grvl, which describe the type of road access to the property. In the training set, only 5 homes have gravel access. Our model needs numerical data, so we will use one-hot encoding to transform the data into a Boolean column.\n",
    "\n",
    "We create a new column called enc_street. The pd.get_dummies() method will handle this for us."
   ]
  },
  {
   "cell_type": "markdown",
   "id": "02998a06",
   "metadata": {},
   "source": [
    "As mentioned earlier, we need to do this on both the train and test data."
   ]
  },
  {
   "cell_type": "code",
   "execution_count": 66,
   "id": "d447b72a",
   "metadata": {},
   "outputs": [],
   "source": [
    "train['enc_street'] = pd.get_dummies(train.Street, drop_first=True)\n",
    "test['enc_street'] = pd.get_dummies(train.Street, drop_first=True)"
   ]
  },
  {
   "cell_type": "code",
   "execution_count": 67,
   "id": "987ddcb1",
   "metadata": {},
   "outputs": [
    {
     "name": "stdout",
     "output_type": "stream",
     "text": [
      "Encoded: \n",
      "\n",
      "1    1160\n",
      "0       3\n",
      "Name: enc_street, dtype: int64\n"
     ]
    }
   ],
   "source": [
    "print ('Encoded: \\n')\n",
    "print (train.enc_street.value_counts())"
   ]
  },
  {
   "cell_type": "markdown",
   "id": "fa34d080",
   "metadata": {},
   "source": [
    "The values agree. We’ve engineered our first feature! Feature Engineering is the process of making features of the data suitable for use in machine learning and modelling. When we encoded the Street feature into a column of Boolean values, we engineered a feature."
   ]
  },
  {
   "cell_type": "raw",
   "id": "258022a7",
   "metadata": {},
   "source": [
    "Let’s try engineering another feature. We’ll look at SaleCondition by constructing and plotting a pivot table, as we did above for OverallQual."
   ]
  },
  {
   "cell_type": "code",
   "execution_count": 68,
   "id": "fdc9b00b",
   "metadata": {},
   "outputs": [
    {
     "data": {
      "image/png": "[encoded data removed]",
      "text/plain": [
       "<Figure size 720x432 with 1 Axes>"
      ]
     },
     "metadata": {},
     "output_type": "display_data"
    }
   ],
   "source": [
    "condition_pivot = train.pivot_table(index='SaleCondition', values='SalePrice', aggfunc=np.median)\n",
    "condition_pivot.plot(kind='bar', color='blue')\n",
    "plt.xlabel('Sale Condition')\n",
    "plt.ylabel('Median Sale Price')\n",
    "plt.xticks(rotation=0)\n",
    "plt.show()"
   ]
  },
  {
   "cell_type": "markdown",
   "id": "c124960a",
   "metadata": {},
   "source": [
    "Notice that Partial has a significantly higher Median Sale Price than the others. We will encode this as a new feature. We select all of the houses where SaleCondition is equal to Patrial and assign the value 1, otherwise assign 0."
   ]
  },
  {
   "cell_type": "markdown",
   "id": "17b8e6b2",
   "metadata": {},
   "source": [
    "Follow a similar method that we used for Street above."
   ]
  },
  {
   "cell_type": "code",
   "execution_count": 132,
   "id": "720558b5",
   "metadata": {},
   "outputs": [],
   "source": [
    "def encode(x):\n",
    " return 1 if x == 'Partial' else 0\n",
    "train['enc_condition'] = train.SaleCondition.apply(encode)\n",
    "test['enc_condition'] = test.SaleCondition.apply(encode)"
   ]
  },
  {
   "cell_type": "raw",
   "id": "c30c31ca",
   "metadata": {},
   "source": [
    "Let’s explore this new feature as a plot."
   ]
  },
  {
   "cell_type": "code",
   "execution_count": 70,
   "id": "4499d35b",
   "metadata": {},
   "outputs": [
    {
     "data": {
      "image/png": "[encoded data removed]",
      "text/plain": [
       "<Figure size 720x432 with 1 Axes>"
      ]
     },
     "metadata": {},
     "output_type": "display_data"
    }
   ],
   "source": [
    "condition_pivot = train.pivot_table(index='enc_condition', values='SalePrice', aggfunc=np.median)\n",
    "condition_pivot.plot(kind='bar', color='blue')\n",
    "plt.xlabel('Encoded Sale Condition')\n",
    "plt.ylabel('Median Sale Price')\n",
    "plt.xticks(rotation=0)\n",
    "plt.show()"
   ]
  },
  {
   "cell_type": "markdown",
   "id": "a4d5c690",
   "metadata": {},
   "source": [
    "This looks great. You can continue to work with more features to improve the ultimate performance of your model."
   ]
  },
  {
   "cell_type": "markdown",
   "id": "3c1d847d",
   "metadata": {},
   "source": [
    "Before we prepare the data for modeling, we need to deal with the missing data. We’ll fill the missing values with an average value and then assign the results to data. This is a method of interpolation. The DataFrame.interpolate() method makes this simple.\n",
    "\n",
    "This is a quick and simple method of dealing with missing values, and might not lead to the best performance of the model on new data. Handling missing values is an important part of the modeling process, where creativity and insight can make a big difference. This is another area where you can extend on this tutorial."
   ]
  },
  {
   "cell_type": "code",
   "execution_count": 80,
   "id": "5df0d4d2",
   "metadata": {},
   "outputs": [],
   "source": [
    "data = train.select_dtypes(include=[np.number]).interpolate().dropna()"
   ]
  },
  {
   "cell_type": "raw",
   "id": "1cb09a8c",
   "metadata": {},
   "source": [
    "Check if the all of the columns have 0 null values."
   ]
  },
  {
   "cell_type": "code",
   "execution_count": 90,
   "id": "7f93971a",
   "metadata": {},
   "outputs": [
    {
     "data": {
      "text/plain": [
       "0"
      ]
     },
     "execution_count": 90,
     "metadata": {},
     "output_type": "execute_result"
    }
   ],
   "source": [
    "sum(data.isnull().sum() != 0)"
   ]
  },
  {
   "cell_type": "code",
   "execution_count": 92,
   "id": "8238b5ac",
   "metadata": {},
   "outputs": [
    {
     "data": {
      "text/plain": [
       "(1162, 40)"
      ]
     },
     "execution_count": 92,
     "metadata": {},
     "output_type": "execute_result"
    }
   ],
   "source": [
    "data.shape"
   ]
  },
  {
   "cell_type": "markdown",
   "id": "9bc5e635",
   "metadata": {},
   "source": [
    "# Step 3 : Build a linear model"
   ]
  },
  {
   "cell_type": "markdown",
   "id": "d4146b4e",
   "metadata": {},
   "source": [
    " Perform the final steps to prepare our data for modeling. We’ll separate the features and the target variable for modeling. We will assign the features to X and the target variable to y. We use np.log() as explained above to transform the y variable for the model. data.drop([features], axis=1) tells pandas which columns we want to exclude. We won’t include SalePrice for obvious reasons, and Id is just an index with no relationship to SalePrice."
   ]
  },
  {
   "cell_type": "code",
   "execution_count": 93,
   "id": "cfde1483",
   "metadata": {},
   "outputs": [],
   "source": [
    "y = np.log(data.SalePrice)\n",
    "X = data.drop(['SalePrice', 'Id'], axis=1)\n"
   ]
  },
  {
   "cell_type": "code",
   "execution_count": 94,
   "id": "66519312",
   "metadata": {},
   "outputs": [
    {
     "data": {
      "text/plain": [
       "(1162,)"
      ]
     },
     "execution_count": 94,
     "metadata": {},
     "output_type": "execute_result"
    }
   ],
   "source": [
    "y.shape"
   ]
  },
  {
   "cell_type": "code",
   "execution_count": 95,
   "id": "43c7c981",
   "metadata": {},
   "outputs": [
    {
     "data": {
      "text/plain": [
       "(1162, 38)"
      ]
     },
     "execution_count": 95,
     "metadata": {},
     "output_type": "execute_result"
    }
   ],
   "source": [
    "X.shape"
   ]
  },
  {
   "cell_type": "markdown",
   "id": "762e9d57",
   "metadata": {},
   "source": [
    "Let’s partition the data and start modeling.\n",
    "We will use the train_test_split() function from scikit-learn to create a training set and a hold-out set. Partitioning the data in this way allows us to evaluate how our model might perform on data that it has never seen before. If we train the model on all of the test data, it will be difficult to tell if overfitting has taken place."
   ]
  },
  {
   "cell_type": "markdown",
   "id": "c7feef09",
   "metadata": {},
   "source": [
    "train_test_split() returns four objects:\n",
    "\n",
    "X_train is the subset of our features used for training.\n",
    "X_test is the subset which will be our ‘hold-out’ set – what we’ll use to test the model.\n",
    "y_train is the target variable SalePrice which corresponds to X_train.\n",
    "y_test is the target variable SalePrice which corresponds to X_test.\n",
    "The first parameter value X denotes the set of predictor data, and y is the target variable. Next, we set random_state=42. This provides for reproducible results, since sci-kit learn’s train_test_split will randomly partition the data. The test_size parameter tells the function what proportion of the data should be in the test partition. In this example, about 33% of the data is devoted to the hold-out set."
   ]
  },
  {
   "cell_type": "code",
   "execution_count": 96,
   "id": "c968af15",
   "metadata": {},
   "outputs": [],
   "source": [
    "from sklearn.model_selection import train_test_split\n",
    "X_train, X_test, y_train, y_test = train_test_split(\n",
    "                          X, y, random_state=42, test_size=.33)"
   ]
  },
  {
   "cell_type": "markdown",
   "id": "99635e83",
   "metadata": {},
   "source": [
    "# Begin modelling\n",
    "We will first create a Linear Regression model. First, we instantiate the model."
   ]
  },
  {
   "cell_type": "code",
   "execution_count": 97,
   "id": "35e8fe37",
   "metadata": {},
   "outputs": [],
   "source": [
    "from sklearn import linear_model\n",
    "lr = linear_model.LinearRegression()"
   ]
  },
  {
   "cell_type": "raw",
   "id": "fa5645ea",
   "metadata": {},
   "source": [
    "Next, we need to fit the model. First instantiate the model and next fit the model. Model fitting is a procedure that varies for different types of models. Put simply, we are estimating the relationship between our predictors and the target variable so we can make accurate predictions on new data.\n",
    "\n",
    "We fit the model using X_train and y_train, and we’ll score with X_test and y_test. The lr.fit() method will fit the linear regression on the features and target variable that we pass."
   ]
  },
  {
   "cell_type": "code",
   "execution_count": 98,
   "id": "fe6651b0",
   "metadata": {},
   "outputs": [],
   "source": [
    "model = lr.fit(X_train, y_train)"
   ]
  },
  {
   "cell_type": "markdown",
   "id": "7f045518",
   "metadata": {},
   "source": [
    "Evaluate the performance and visualize results\n",
    "Now, we want to evaluate the performance of the model.\n",
    "Each competition might evaluate the sublessons differently. In this competition, Kaggle will evaluate our sublesson using root-mean-squared-error (RMSE). We’ll also look at The r-squared value. The r-squared value is a measure of how close the data are to the fitted regression line. It takes a value between 0 and 1, 1 meaning that all of the variance in the target is explained by the data. In general, a higher r-squared value means a better fit.\n",
    "\n",
    "The model.score() method returns the r-squared value by default."
   ]
  },
  {
   "cell_type": "code",
   "execution_count": 99,
   "id": "41beeeb0",
   "metadata": {},
   "outputs": [
    {
     "name": "stdout",
     "output_type": "stream",
     "text": [
      "R^2 is: \n",
      " 0.8689551545402041\n"
     ]
    }
   ],
   "source": [
    "print (\"R^2 is: \\n\", model.score(X_test, y_test))"
   ]
  },
  {
   "cell_type": "markdown",
   "id": "a774417a",
   "metadata": {},
   "source": [
    "This means that our features explain approximately 89% of the variance in our target variable. Follow the link above to learn more."
   ]
  },
  {
   "cell_type": "raw",
   "id": "f11e1de5",
   "metadata": {},
   "source": [
    "Next, we’ll consider rmse. To do so, use the model we have built to make predictions on the test data set."
   ]
  },
  {
   "cell_type": "code",
   "execution_count": 100,
   "id": "f386bcef",
   "metadata": {},
   "outputs": [],
   "source": [
    "predictions = model.predict(X_test)"
   ]
  },
  {
   "cell_type": "markdown",
   "id": "1da3cda3",
   "metadata": {},
   "source": [
    " The model.predict() method will return a list of predictions given a set of predictors. Use model.predict() after fitting the model."
   ]
  },
  {
   "cell_type": "raw",
   "id": "1d7f2419",
   "metadata": {},
   "source": [
    "The mean_squared_error function takes two arrays and calculates the rmse."
   ]
  },
  {
   "cell_type": "code",
   "execution_count": 102,
   "id": "0f5c2680",
   "metadata": {},
   "outputs": [
    {
     "name": "stdout",
     "output_type": "stream",
     "text": [
      "RMSE is: \n",
      " 0.023194779631159845\n"
     ]
    }
   ],
   "source": [
    "from sklearn.metrics import mean_squared_error\n",
    "print ('RMSE is: \\n', mean_squared_error(y_test, predictions))"
   ]
  },
  {
   "cell_type": "markdown",
   "id": "97aa30a3",
   "metadata": {},
   "source": [
    "Interpreting this value is somewhat more intuitive that the r-squared value. The RMSE measures the distance between our predicted values and actual values."
   ]
  },
  {
   "cell_type": "raw",
   "id": "cc06ba67",
   "metadata": {},
   "source": [
    "We can view this relationship graphically with a scatter plot."
   ]
  },
  {
   "cell_type": "code",
   "execution_count": 103,
   "id": "7a4d7529",
   "metadata": {},
   "outputs": [
    {
     "data": {
      "image/png": "[encoded data removed]",
      "text/plain": [
       "<Figure size 720x432 with 1 Axes>"
      ]
     },
     "metadata": {},
     "output_type": "display_data"
    }
   ],
   "source": [
    "actual_values = y_test\n",
    "plt.scatter(predictions, actual_values, alpha=.7,\n",
    "            color='b') #alpha helps to show overlapping data\n",
    "plt.xlabel('Predicted Price')\n",
    "plt.ylabel('Actual Price')\n",
    "plt.title('Linear Regression Model')\n",
    "plt.show()"
   ]
  },
  {
   "cell_type": "markdown",
   "id": "0ad23ce2",
   "metadata": {},
   "source": [
    "If our predicted values were identical to the actual values, this graph would be the straight line y=x because each predicted value x would be equal to each actual value y."
   ]
  },
  {
   "cell_type": "markdown",
   "id": "f00feab5",
   "metadata": {},
   "source": [
    "# Try to improve the model\n",
    "We’ll next try using Ridge Regularization to decrease the influence of less important features. Ridge Regularization is a process which shrinks the regression coefficients of less important features.\n",
    "\n",
    "We’ll once again instantiate the model. The Ridge Regularization model takes a parameter, alpha , which controls the strength of the regularization.\n",
    "\n",
    "We’ll experiment by looping through a few different values of alpha, and see how this changes our results."
   ]
  },
  {
   "cell_type": "code",
   "execution_count": 120,
   "id": "eda5d02f",
   "metadata": {},
   "outputs": [
    {
     "data": {
      "image/png": "[encoded data removed]",
      "text/plain": [
       "<Figure size 720x432 with 1 Axes>"
      ]
     },
     "metadata": {},
     "output_type": "display_data"
    },
    {
     "data": {
      "image/png": "[encoded data removed]",
      "text/plain": [
       "<Figure size 720x432 with 1 Axes>"
      ]
     },
     "metadata": {},
     "output_type": "display_data"
    },
    {
     "data": {
      "image/png": "[encoded data removed]",
      "text/plain": [
       "<Figure size 720x432 with 1 Axes>"
      ]
     },
     "metadata": {},
     "output_type": "display_data"
    },
    {
     "data": {
      "image/png": "[encoded data removed]",
      "text/plain": [
       "<Figure size 720x432 with 1 Axes>"
      ]
     },
     "metadata": {},
     "output_type": "display_data"
    },
    {
     "data": {
      "image/png": "[encoded data removed]",
      "text/plain": [
       "<Figure size 720x432 with 1 Axes>"
      ]
     },
     "metadata": {},
     "output_type": "display_data"
    }
   ],
   "source": [
    "for i in range (-2, 3):\n",
    "    alpha = 10**i\n",
    "    rm = linear_model.Ridge(alpha=alpha)\n",
    "    ridge_model = rm.fit(X_train, y_train)\n",
    "    preds_ridge = ridge_model.predict(X_test)\n",
    "\n",
    "    plt.scatter(preds_ridge, actual_values, alpha=.75, color='b')\n",
    "    plt.xlabel('Predicted Price')\n",
    "    plt.ylabel('Actual Price')\n",
    "    plt.title('Ridge Regularization with alpha = {}'.format(alpha))\n",
    "    overlay = 'R^2 is: {}\\nRMSE is: {}'.format(\n",
    "                    ridge_model.score(X_test, y_test),\n",
    "                    mean_squared_error(y_test, preds_ridge))\n",
    "    plt.annotate('Local Max', xy =(3.3, 1),\n",
    "                xytext =(3, 1.8), \n",
    "                arrowprops = dict(facecolor ='green',\n",
    "                                  shrink = 0.05),)\n",
    "    plt.show()"
   ]
  },
  {
   "cell_type": "markdown",
   "id": "eedc6a12",
   "metadata": {},
   "source": [
    "These models perform almost identically to the first model. In our case, adjusting the alpha did not substantially improve our model. As you add more features, regularization can be helpful. Repeat this step after you’ve added more features."
   ]
  },
  {
   "cell_type": "markdown",
   "id": "f52e9626",
   "metadata": {},
   "source": [
    "# Step 4: Make a sublesson"
   ]
  },
  {
   "cell_type": "markdown",
   "id": "f2c05333",
   "metadata": {},
   "source": [
    "We’ll need to create a csv that contains the predicted SalePrice for each observation in the test.csv dataset.\n",
    "\n",
    "We’ll log in to our Kaggle account and go to the sublesson page to make a sublesson.\n",
    "We will use the DataFrame.to_csv() to create a csv to submit.\n",
    "The first column must the contain the ID from the test data."
   ]
  },
  {
   "cell_type": "code",
   "execution_count": 121,
   "id": "9bfbdde4",
   "metadata": {},
   "outputs": [],
   "source": [
    "sublesson = pd.DataFrame()\n",
    "sublesson['Id'] = test.Id"
   ]
  },
  {
   "cell_type": "markdown",
   "id": "f238886c",
   "metadata": {},
   "source": [
    "Now, select the features from the test data for the model as we did above."
   ]
  },
  {
   "cell_type": "code",
   "execution_count": 122,
   "id": "c50a16be",
   "metadata": {},
   "outputs": [],
   "source": [
    "feats = test.select_dtypes(include=[np.number]).drop(['Id'], axis=1).interpolate()"
   ]
  },
  {
   "cell_type": "markdown",
   "id": "c1b1a6d9",
   "metadata": {},
   "source": [
    "Next, we generate our predictions."
   ]
  },
  {
   "cell_type": "code",
   "execution_count": 123,
   "id": "8e004b6f",
   "metadata": {},
   "outputs": [
    {
     "name": "stderr",
     "output_type": "stream",
     "text": [
      "C:\\ProgramData\\Anaconda3\\lib\\site-packages\\sklearn\\base.py:493: FutureWarning: The feature names should match those that were passed during fit. Starting version 1.2, an error will be raised.\n",
      "Feature names unseen at fit time:\n",
      "- PoolQC\n",
      "Feature names must be in the same order as they were in fit.\n",
      "\n",
      "  warnings.warn(message, FutureWarning)\n"
     ]
    },
    {
     "ename": "ValueError",
     "evalue": "Input contains NaN, infinity or a value too large for dtype('float64').",
     "output_type": "error",
     "traceback": [
      "\u001b[1;31m---------------------------------------------------------------------------\u001b[0m",
      "\u001b[1;31mValueError\u001b[0m                                Traceback (most recent call last)",
      "Input \u001b[1;32mIn [123]\u001b[0m, in \u001b[0;36m<cell line: 1>\u001b[1;34m()\u001b[0m\n\u001b[1;32m----> 1\u001b[0m predictions \u001b[38;5;241m=\u001b[39m \u001b[43mmodel\u001b[49m\u001b[38;5;241;43m.\u001b[39;49m\u001b[43mpredict\u001b[49m\u001b[43m(\u001b[49m\u001b[43mfeats\u001b[49m\u001b[43m)\u001b[49m\n",
      "File \u001b[1;32mC:\\ProgramData\\Anaconda3\\lib\\site-packages\\sklearn\\linear_model\\_base.py:362\u001b[0m, in \u001b[0;36mLinearModel.predict\u001b[1;34m(self, X)\u001b[0m\n\u001b[0;32m    348\u001b[0m \u001b[38;5;28;01mdef\u001b[39;00m \u001b[38;5;21mpredict\u001b[39m(\u001b[38;5;28mself\u001b[39m, X):\n\u001b[0;32m    349\u001b[0m     \u001b[38;5;124;03m\"\"\"\u001b[39;00m\n\u001b[0;32m    350\u001b[0m \u001b[38;5;124;03m    Predict using the linear model.\u001b[39;00m\n\u001b[0;32m    351\u001b[0m \n\u001b[1;32m   (...)\u001b[0m\n\u001b[0;32m    360\u001b[0m \u001b[38;5;124;03m        Returns predicted values.\u001b[39;00m\n\u001b[0;32m    361\u001b[0m \u001b[38;5;124;03m    \"\"\"\u001b[39;00m\n\u001b[1;32m--> 362\u001b[0m     \u001b[38;5;28;01mreturn\u001b[39;00m \u001b[38;5;28;43mself\u001b[39;49m\u001b[38;5;241;43m.\u001b[39;49m\u001b[43m_decision_function\u001b[49m\u001b[43m(\u001b[49m\u001b[43mX\u001b[49m\u001b[43m)\u001b[49m\n",
      "File \u001b[1;32mC:\\ProgramData\\Anaconda3\\lib\\site-packages\\sklearn\\linear_model\\_base.py:345\u001b[0m, in \u001b[0;36mLinearModel._decision_function\u001b[1;34m(self, X)\u001b[0m\n\u001b[0;32m    342\u001b[0m \u001b[38;5;28;01mdef\u001b[39;00m \u001b[38;5;21m_decision_function\u001b[39m(\u001b[38;5;28mself\u001b[39m, X):\n\u001b[0;32m    343\u001b[0m     check_is_fitted(\u001b[38;5;28mself\u001b[39m)\n\u001b[1;32m--> 345\u001b[0m     X \u001b[38;5;241m=\u001b[39m \u001b[38;5;28;43mself\u001b[39;49m\u001b[38;5;241;43m.\u001b[39;49m\u001b[43m_validate_data\u001b[49m\u001b[43m(\u001b[49m\u001b[43mX\u001b[49m\u001b[43m,\u001b[49m\u001b[43m \u001b[49m\u001b[43maccept_sparse\u001b[49m\u001b[38;5;241;43m=\u001b[39;49m\u001b[43m[\u001b[49m\u001b[38;5;124;43m\"\u001b[39;49m\u001b[38;5;124;43mcsr\u001b[39;49m\u001b[38;5;124;43m\"\u001b[39;49m\u001b[43m,\u001b[49m\u001b[43m \u001b[49m\u001b[38;5;124;43m\"\u001b[39;49m\u001b[38;5;124;43mcsc\u001b[39;49m\u001b[38;5;124;43m\"\u001b[39;49m\u001b[43m,\u001b[49m\u001b[43m \u001b[49m\u001b[38;5;124;43m\"\u001b[39;49m\u001b[38;5;124;43mcoo\u001b[39;49m\u001b[38;5;124;43m\"\u001b[39;49m\u001b[43m]\u001b[49m\u001b[43m,\u001b[49m\u001b[43m \u001b[49m\u001b[43mreset\u001b[49m\u001b[38;5;241;43m=\u001b[39;49m\u001b[38;5;28;43;01mFalse\u001b[39;49;00m\u001b[43m)\u001b[49m\n\u001b[0;32m    346\u001b[0m     \u001b[38;5;28;01mreturn\u001b[39;00m safe_sparse_dot(X, \u001b[38;5;28mself\u001b[39m\u001b[38;5;241m.\u001b[39mcoef_\u001b[38;5;241m.\u001b[39mT, dense_output\u001b[38;5;241m=\u001b[39m\u001b[38;5;28;01mTrue\u001b[39;00m) \u001b[38;5;241m+\u001b[39m \u001b[38;5;28mself\u001b[39m\u001b[38;5;241m.\u001b[39mintercept_\n",
      "File \u001b[1;32mC:\\ProgramData\\Anaconda3\\lib\\site-packages\\sklearn\\base.py:566\u001b[0m, in \u001b[0;36mBaseEstimator._validate_data\u001b[1;34m(self, X, y, reset, validate_separately, **check_params)\u001b[0m\n\u001b[0;32m    564\u001b[0m     \u001b[38;5;28;01mraise\u001b[39;00m \u001b[38;5;167;01mValueError\u001b[39;00m(\u001b[38;5;124m\"\u001b[39m\u001b[38;5;124mValidation should be done on X, y or both.\u001b[39m\u001b[38;5;124m\"\u001b[39m)\n\u001b[0;32m    565\u001b[0m \u001b[38;5;28;01melif\u001b[39;00m \u001b[38;5;129;01mnot\u001b[39;00m no_val_X \u001b[38;5;129;01mand\u001b[39;00m no_val_y:\n\u001b[1;32m--> 566\u001b[0m     X \u001b[38;5;241m=\u001b[39m check_array(X, \u001b[38;5;241m*\u001b[39m\u001b[38;5;241m*\u001b[39mcheck_params)\n\u001b[0;32m    567\u001b[0m     out \u001b[38;5;241m=\u001b[39m X\n\u001b[0;32m    568\u001b[0m \u001b[38;5;28;01melif\u001b[39;00m no_val_X \u001b[38;5;129;01mand\u001b[39;00m \u001b[38;5;129;01mnot\u001b[39;00m no_val_y:\n",
      "File \u001b[1;32mC:\\ProgramData\\Anaconda3\\lib\\site-packages\\sklearn\\utils\\validation.py:800\u001b[0m, in \u001b[0;36mcheck_array\u001b[1;34m(array, accept_sparse, accept_large_sparse, dtype, order, copy, force_all_finite, ensure_2d, allow_nd, ensure_min_samples, ensure_min_features, estimator)\u001b[0m\n\u001b[0;32m    794\u001b[0m         \u001b[38;5;28;01mraise\u001b[39;00m \u001b[38;5;167;01mValueError\u001b[39;00m(\n\u001b[0;32m    795\u001b[0m             \u001b[38;5;124m\"\u001b[39m\u001b[38;5;124mFound array with dim \u001b[39m\u001b[38;5;132;01m%d\u001b[39;00m\u001b[38;5;124m. \u001b[39m\u001b[38;5;132;01m%s\u001b[39;00m\u001b[38;5;124m expected <= 2.\u001b[39m\u001b[38;5;124m\"\u001b[39m\n\u001b[0;32m    796\u001b[0m             \u001b[38;5;241m%\u001b[39m (array\u001b[38;5;241m.\u001b[39mndim, estimator_name)\n\u001b[0;32m    797\u001b[0m         )\n\u001b[0;32m    799\u001b[0m     \u001b[38;5;28;01mif\u001b[39;00m force_all_finite:\n\u001b[1;32m--> 800\u001b[0m         \u001b[43m_assert_all_finite\u001b[49m\u001b[43m(\u001b[49m\u001b[43marray\u001b[49m\u001b[43m,\u001b[49m\u001b[43m \u001b[49m\u001b[43mallow_nan\u001b[49m\u001b[38;5;241;43m=\u001b[39;49m\u001b[43mforce_all_finite\u001b[49m\u001b[43m \u001b[49m\u001b[38;5;241;43m==\u001b[39;49m\u001b[43m \u001b[49m\u001b[38;5;124;43m\"\u001b[39;49m\u001b[38;5;124;43mallow-nan\u001b[39;49m\u001b[38;5;124;43m\"\u001b[39;49m\u001b[43m)\u001b[49m\n\u001b[0;32m    802\u001b[0m \u001b[38;5;28;01mif\u001b[39;00m ensure_min_samples \u001b[38;5;241m>\u001b[39m \u001b[38;5;241m0\u001b[39m:\n\u001b[0;32m    803\u001b[0m     n_samples \u001b[38;5;241m=\u001b[39m _num_samples(array)\n",
      "File \u001b[1;32mC:\\ProgramData\\Anaconda3\\lib\\site-packages\\sklearn\\utils\\validation.py:114\u001b[0m, in \u001b[0;36m_assert_all_finite\u001b[1;34m(X, allow_nan, msg_dtype)\u001b[0m\n\u001b[0;32m    107\u001b[0m     \u001b[38;5;28;01mif\u001b[39;00m (\n\u001b[0;32m    108\u001b[0m         allow_nan\n\u001b[0;32m    109\u001b[0m         \u001b[38;5;129;01mand\u001b[39;00m np\u001b[38;5;241m.\u001b[39misinf(X)\u001b[38;5;241m.\u001b[39many()\n\u001b[0;32m    110\u001b[0m         \u001b[38;5;129;01mor\u001b[39;00m \u001b[38;5;129;01mnot\u001b[39;00m allow_nan\n\u001b[0;32m    111\u001b[0m         \u001b[38;5;129;01mand\u001b[39;00m \u001b[38;5;129;01mnot\u001b[39;00m np\u001b[38;5;241m.\u001b[39misfinite(X)\u001b[38;5;241m.\u001b[39mall()\n\u001b[0;32m    112\u001b[0m     ):\n\u001b[0;32m    113\u001b[0m         type_err \u001b[38;5;241m=\u001b[39m \u001b[38;5;124m\"\u001b[39m\u001b[38;5;124minfinity\u001b[39m\u001b[38;5;124m\"\u001b[39m \u001b[38;5;28;01mif\u001b[39;00m allow_nan \u001b[38;5;28;01melse\u001b[39;00m \u001b[38;5;124m\"\u001b[39m\u001b[38;5;124mNaN, infinity\u001b[39m\u001b[38;5;124m\"\u001b[39m\n\u001b[1;32m--> 114\u001b[0m         \u001b[38;5;28;01mraise\u001b[39;00m \u001b[38;5;167;01mValueError\u001b[39;00m(\n\u001b[0;32m    115\u001b[0m             msg_err\u001b[38;5;241m.\u001b[39mformat(\n\u001b[0;32m    116\u001b[0m                 type_err, msg_dtype \u001b[38;5;28;01mif\u001b[39;00m msg_dtype \u001b[38;5;129;01mis\u001b[39;00m \u001b[38;5;129;01mnot\u001b[39;00m \u001b[38;5;28;01mNone\u001b[39;00m \u001b[38;5;28;01melse\u001b[39;00m X\u001b[38;5;241m.\u001b[39mdtype\n\u001b[0;32m    117\u001b[0m             )\n\u001b[0;32m    118\u001b[0m         )\n\u001b[0;32m    119\u001b[0m \u001b[38;5;66;03m# for object dtype data, we only check for NaNs (GH-13254)\u001b[39;00m\n\u001b[0;32m    120\u001b[0m \u001b[38;5;28;01melif\u001b[39;00m X\u001b[38;5;241m.\u001b[39mdtype \u001b[38;5;241m==\u001b[39m np\u001b[38;5;241m.\u001b[39mdtype(\u001b[38;5;124m\"\u001b[39m\u001b[38;5;124mobject\u001b[39m\u001b[38;5;124m\"\u001b[39m) \u001b[38;5;129;01mand\u001b[39;00m \u001b[38;5;129;01mnot\u001b[39;00m allow_nan:\n",
      "\u001b[1;31mValueError\u001b[0m: Input contains NaN, infinity or a value too large for dtype('float64')."
     ]
    }
   ],
   "source": [
    "predictions = model.predict(feats)"
   ]
  },
  {
   "cell_type": "markdown",
   "id": "ba6a80ca",
   "metadata": {},
   "source": [
    "Now we’ll transform the predictions to the correct form. Remember that to reverse log() we do exp().\n",
    "So we will apply np.exp() to our predictions becasuse we have taken the logarithm previously."
   ]
  },
  {
   "cell_type": "code",
   "execution_count": 124,
   "id": "29ea197c",
   "metadata": {},
   "outputs": [],
   "source": [
    "final_predictions = np.exp(predictions)"
   ]
  },
  {
   "cell_type": "raw",
   "id": "9150700d",
   "metadata": {},
   "source": [
    "Look at the difference."
   ]
  },
  {
   "cell_type": "code",
   "execution_count": 125,
   "id": "734f2141",
   "metadata": {},
   "outputs": [
    {
     "name": "stdout",
     "output_type": "stream",
     "text": [
      "Original predictions are: \n",
      " [12.84520573 12.27704613 11.94877367 11.76975294 11.71388206] \n",
      "\n",
      "Final predictions are: \n",
      " [378967.49929186 214710.55096421 154627.40603654 129282.20681891\n",
      " 122257.17009583]\n"
     ]
    }
   ],
   "source": [
    "print (\"Original predictions are: \\n\", predictions[:5], \"\\n\")\n",
    "print (\"Final predictions are: \\n\", final_predictions[:5])"
   ]
  },
  {
   "cell_type": "markdown",
   "id": "b1cfc1ce",
   "metadata": {},
   "source": [
    "Lets assign these predictions and check that everything looks good."
   ]
  },
  {
   "cell_type": "code",
   "execution_count": 127,
   "id": "18f958df",
   "metadata": {},
   "outputs": [
    {
     "data": {
      "text/html": [
       "<div>\n",
       "<style scoped>\n",
       "    .dataframe tbody tr th:only-of-type {\n",
       "        vertical-align: middle;\n",
       "    }\n",
       "\n",
       "    .dataframe tbody tr th {\n",
       "        vertical-align: top;\n",
       "    }\n",
       "\n",
       "    .dataframe thead th {\n",
       "        text-align: right;\n",
       "    }\n",
       "</style>\n",
       "<table border=\"1\" class=\"dataframe\">\n",
       "  <thead>\n",
       "    <tr style=\"text-align: right;\">\n",
       "      <th></th>\n",
       "      <th>Id</th>\n",
       "      <th>SalePrice</th>\n",
       "    </tr>\n",
       "  </thead>\n",
       "  <tbody>\n",
       "    <tr>\n",
       "      <th>0</th>\n",
       "      <td>337</td>\n",
       "      <td>182572.898627</td>\n",
       "    </tr>\n",
       "    <tr>\n",
       "      <th>1</th>\n",
       "      <td>1018</td>\n",
       "      <td>182572.898627</td>\n",
       "    </tr>\n",
       "    <tr>\n",
       "      <th>2</th>\n",
       "      <td>929</td>\n",
       "      <td>182572.898627</td>\n",
       "    </tr>\n",
       "    <tr>\n",
       "      <th>3</th>\n",
       "      <td>1148</td>\n",
       "      <td>182572.898627</td>\n",
       "    </tr>\n",
       "    <tr>\n",
       "      <th>4</th>\n",
       "      <td>1227</td>\n",
       "      <td>182572.898627</td>\n",
       "    </tr>\n",
       "    <tr>\n",
       "      <th>5</th>\n",
       "      <td>650</td>\n",
       "      <td>182572.898627</td>\n",
       "    </tr>\n",
       "    <tr>\n",
       "      <th>6</th>\n",
       "      <td>1453</td>\n",
       "      <td>182572.898627</td>\n",
       "    </tr>\n",
       "    <tr>\n",
       "      <th>7</th>\n",
       "      <td>152</td>\n",
       "      <td>182572.898627</td>\n",
       "    </tr>\n",
       "    <tr>\n",
       "      <th>8</th>\n",
       "      <td>427</td>\n",
       "      <td>182572.898627</td>\n",
       "    </tr>\n",
       "    <tr>\n",
       "      <th>9</th>\n",
       "      <td>776</td>\n",
       "      <td>182572.898627</td>\n",
       "    </tr>\n",
       "    <tr>\n",
       "      <th>10</th>\n",
       "      <td>30</td>\n",
       "      <td>182572.898627</td>\n",
       "    </tr>\n",
       "    <tr>\n",
       "      <th>11</th>\n",
       "      <td>1425</td>\n",
       "      <td>182572.898627</td>\n",
       "    </tr>\n",
       "    <tr>\n",
       "      <th>12</th>\n",
       "      <td>423</td>\n",
       "      <td>182572.898627</td>\n",
       "    </tr>\n",
       "    <tr>\n",
       "      <th>13</th>\n",
       "      <td>1185</td>\n",
       "      <td>182572.898627</td>\n",
       "    </tr>\n",
       "    <tr>\n",
       "      <th>14</th>\n",
       "      <td>775</td>\n",
       "      <td>182572.898627</td>\n",
       "    </tr>\n",
       "    <tr>\n",
       "      <th>15</th>\n",
       "      <td>391</td>\n",
       "      <td>182572.898627</td>\n",
       "    </tr>\n",
       "    <tr>\n",
       "      <th>16</th>\n",
       "      <td>1408</td>\n",
       "      <td>182572.898627</td>\n",
       "    </tr>\n",
       "    <tr>\n",
       "      <th>17</th>\n",
       "      <td>513</td>\n",
       "      <td>182572.898627</td>\n",
       "    </tr>\n",
       "    <tr>\n",
       "      <th>18</th>\n",
       "      <td>1266</td>\n",
       "      <td>182572.898627</td>\n",
       "    </tr>\n",
       "    <tr>\n",
       "      <th>19</th>\n",
       "      <td>173</td>\n",
       "      <td>182572.898627</td>\n",
       "    </tr>\n",
       "  </tbody>\n",
       "</table>\n",
       "</div>"
      ],
      "text/plain": [
       "      Id      SalePrice\n",
       "0    337  182572.898627\n",
       "1   1018  182572.898627\n",
       "2    929  182572.898627\n",
       "3   1148  182572.898627\n",
       "4   1227  182572.898627\n",
       "5    650  182572.898627\n",
       "6   1453  182572.898627\n",
       "7    152  182572.898627\n",
       "8    427  182572.898627\n",
       "9    776  182572.898627\n",
       "10    30  182572.898627\n",
       "11  1425  182572.898627\n",
       "12   423  182572.898627\n",
       "13  1185  182572.898627\n",
       "14   775  182572.898627\n",
       "15   391  182572.898627\n",
       "16  1408  182572.898627\n",
       "17   513  182572.898627\n",
       "18  1266  182572.898627\n",
       "19   173  182572.898627"
      ]
     },
     "execution_count": 127,
     "metadata": {},
     "output_type": "execute_result"
    }
   ],
   "source": [
    "sublesson['SalePrice'] = final_predictions[292]\n",
    "sublesson.head(20)"
   ]
  },
  {
   "cell_type": "markdown",
   "id": "9ecae5f3",
   "metadata": {},
   "source": [
    "One we’re confident that we’ve got the data arranged in the proper format, we can export to a .csv file. We pass index=False because Pandas otherwise would create a new index for us."
   ]
  },
  {
   "cell_type": "code",
   "execution_count": 128,
   "id": "4a1739c7",
   "metadata": {},
   "outputs": [],
   "source": [
    "sublesson.to_csv('sublesson1.csv', index=False)"
   ]
  },
  {
   "cell_type": "markdown",
   "id": "3a9f6ef2",
   "metadata": {},
   "source": [
    "# Submit our results\n",
    "We’ve created a file called sublesson1.csv in our working directory that conforms to the correct format. Go to the sublesson page to make a sublesson.\n",
    "\n",
    "We placed 1602 out of about 2400 competitors. Almost middle of the pack, not bad! Notice that our score here is .15097, which is better than the score we observed on the test data. That’s a good result, but will not always be the case."
   ]
  },
  {
   "cell_type": "code",
   "execution_count": null,
   "id": "d079e878",
   "metadata": {},
   "outputs": [],
   "source": []
  }
 ],
 "metadata": {
  "kernelspec": {
   "display_name": "Python 3 (ipykernel)",
   "language": "python",
   "name": "python3"
  },
  "language_info": {
   "codemirror_mode": {
    "name": "ipython",
    "version": 3
   },
   "file_extension": ".py",
   "mimetype": "text/x-python",
   "name": "python",
   "nbconvert_exporter": "python",
   "pygments_lexer": "ipython3",
   "version": "3.9.12"
  }
 },
 "nbformat": 4,
 "nbformat_minor": 5
}
